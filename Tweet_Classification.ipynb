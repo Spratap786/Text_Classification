{
 "cells": [
  {
   "cell_type": "code",
   "execution_count": 1,
   "id": "8420940a",
   "metadata": {
    "_cell_guid": "b1076dfc-b9ad-4769-8c92-a6c4dae69d19",
    "_uuid": "8f2839f25d086af736a60e9eeb907d3b93b6e0e5",
    "execution": {
     "iopub.execute_input": "2021-10-24T23:34:54.333576Z",
     "iopub.status.busy": "2021-10-24T23:34:54.332870Z",
     "iopub.status.idle": "2021-10-24T23:34:54.350485Z",
     "shell.execute_reply": "2021-10-24T23:34:54.351307Z",
     "shell.execute_reply.started": "2021-10-24T22:57:40.548141Z"
    },
    "papermill": {
     "duration": 0.082249,
     "end_time": "2021-10-24T23:34:54.351672",
     "exception": false,
     "start_time": "2021-10-24T23:34:54.269423",
     "status": "completed"
    },
    "tags": []
   },
   "outputs": [
    {
     "name": "stdout",
     "output_type": "stream",
     "text": [
      "/kaggle/input/glove-global-vectors-for-word-representation/glove.6B.200d.txt\n",
      "/kaggle/input/glove-global-vectors-for-word-representation/glove.6B.50d.txt\n",
      "/kaggle/input/glove-global-vectors-for-word-representation/glove.6B.100d.txt\n",
      "/kaggle/input/nlp-getting-started/sample_submission.csv\n",
      "/kaggle/input/nlp-getting-started/train.csv\n",
      "/kaggle/input/nlp-getting-started/test.csv\n"
     ]
    }
   ],
   "source": [
    "# This Python 3 environment comes with many helpful analytics libraries installed\n",
    "# It is defined by the kaggle/python Docker image: https://github.com/kaggle/docker-python\n",
    "# For example, here's several helpful packages to load\n",
    "\n",
    "import numpy as np # linear algebra\n",
    "import pandas as pd # data processing, CSV file I/O (e.g. pd.read_csv)\n",
    "\n",
    "# Input data files are available in the read-only \"../input/\" directory\n",
    "# For example, running this (by clicking run or pressing Shift+Enter) will list all files under the input directory\n",
    "\n",
    "import os\n",
    "for dirname, _, filenames in os.walk('/kaggle/input'):\n",
    "    for filename in filenames:\n",
    "        print(os.path.join(dirname, filename))\n",
    "\n",
    "# You can write up to 20GB to the current directory (/kaggle/working/) that gets preserved as output when you create a version using \"Save & Run All\" \n",
    "# You can also write temporary files to /kaggle/temp/, but they won't be saved outside of the current session"
   ]
  },
  {
   "cell_type": "code",
   "execution_count": 2,
   "id": "a033fb88",
   "metadata": {
    "execution": {
     "iopub.execute_input": "2021-10-24T23:34:54.455186Z",
     "iopub.status.busy": "2021-10-24T23:34:54.454276Z",
     "iopub.status.idle": "2021-10-24T23:35:03.656522Z",
     "shell.execute_reply": "2021-10-24T23:35:03.655906Z",
     "shell.execute_reply.started": "2021-10-24T23:07:25.289639Z"
    },
    "papermill": {
     "duration": 9.256976,
     "end_time": "2021-10-24T23:35:03.656748",
     "exception": false,
     "start_time": "2021-10-24T23:34:54.399772",
     "status": "completed"
    },
    "tags": []
   },
   "outputs": [],
   "source": [
    "import spacy\n",
    "import pandas as pd\n",
    "import numpy as np\n",
    "import re\n",
    "import string\n",
    "import timeit\n",
    "import tensorflow as tf\n",
    "import tensorflow_hub as hub\n",
    "# Cleaning Data\n",
    "from keras.preprocessing.text import Tokenizer\n",
    "from nltk import corpus, SnowballStemmer, word_tokenize\n",
    "# !pip install pyspellchecker\n",
    "# from spellchecker import SpellChecker\n",
    "from tqdm import tqdm\n",
    "# Visualization\n",
    "import matplotlib.pyplot as plt\n",
    "import seaborn as sns\n",
    "# Preprocessing and Modelling\n",
    "from sklearn.model_selection import train_test_split\n",
    "from sklearn.feature_extraction.text import CountVectorizer\n",
    "from sklearn.feature_extraction.text import TfidfVectorizer\n",
    "\n",
    "from keras.preprocessing.sequence import pad_sequences\n",
    "from keras.layers import Embedding, SimpleRNN, Dense, Bidirectional, GRU, LSTM, SpatialDropout1D\n",
    "from tensorflow.compat.v1.keras.layers import CuDNNLSTM\n",
    "from keras.models import Sequential\n"
   ]
  },
  {
   "cell_type": "markdown",
   "id": "87191837",
   "metadata": {},
   "source": [
    "# Loading Data"
   ]
  },
  {
   "cell_type": "code",
   "execution_count": 3,
   "id": "45a6096f",
   "metadata": {
    "execution": {
     "iopub.execute_input": "2021-10-24T23:35:03.953857Z",
     "iopub.status.busy": "2021-10-24T23:35:03.952813Z",
     "iopub.status.idle": "2021-10-24T23:35:04.042295Z",
     "shell.execute_reply": "2021-10-24T23:35:04.041801Z",
     "shell.execute_reply.started": "2021-10-24T22:57:56.583797Z"
    },
    "papermill": {
     "duration": 0.144075,
     "end_time": "2021-10-24T23:35:04.042432",
     "exception": false,
     "start_time": "2021-10-24T23:35:03.898357",
     "status": "completed"
    },
    "tags": []
   },
   "outputs": [
    {
     "name": "stdout",
     "output_type": "stream",
     "text": [
      "Training Set Shape = (7613, 5)\n",
      "Training Set Memory Usage = 0.29MB\n",
      "Test Set Shape = (3263, 4)\n",
      "Test Set Memory Usage = 0.10MB\n"
     ]
    }
   ],
   "source": [
    "train_full = pd.read_csv('/kaggle/input/nlp-getting-started/train.csv')\n",
    "test_full = pd.read_csv('/kaggle/input/nlp-getting-started/test.csv')\n",
    "df = pd.concat([train_full, test_full])\n",
    "\n",
    "train_len = train_full.shape[0]\n",
    "\n",
    "print('Training Set Shape = {}'.format(train_full.shape))\n",
    "print('Training Set Memory Usage = {:.2f}MB'.format(train_full.memory_usage().sum()/2**20))\n",
    "\n",
    "print('Test Set Shape = {}'.format(test_full.shape))\n",
    "print('Test Set Memory Usage = {:.2f}MB'.format(test_full.memory_usage().sum()/2**20))"
   ]
  },
  {
   "cell_type": "code",
   "execution_count": 4,
   "id": "cc5d42f6",
   "metadata": {
    "execution": {
     "iopub.execute_input": "2021-10-24T23:35:04.146483Z",
     "iopub.status.busy": "2021-10-24T23:35:04.145541Z",
     "iopub.status.idle": "2021-10-24T23:35:04.191010Z",
     "shell.execute_reply": "2021-10-24T23:35:04.191665Z",
     "shell.execute_reply.started": "2021-10-24T22:57:56.683034Z"
    },
    "papermill": {
     "duration": 0.10189,
     "end_time": "2021-10-24T23:35:04.191855",
     "exception": false,
     "start_time": "2021-10-24T23:35:04.089965",
     "status": "completed"
    },
    "tags": []
   },
   "outputs": [
    {
     "data": {
      "text/html": [
       "<div>\n",
       "<style scoped>\n",
       "    .dataframe tbody tr th:only-of-type {\n",
       "        vertical-align: middle;\n",
       "    }\n",
       "\n",
       "    .dataframe tbody tr th {\n",
       "        vertical-align: top;\n",
       "    }\n",
       "\n",
       "    .dataframe thead tr th {\n",
       "        text-align: left;\n",
       "    }\n",
       "\n",
       "    .dataframe thead tr:last-of-type th {\n",
       "        text-align: right;\n",
       "    }\n",
       "</style>\n",
       "<table border=\"1\" class=\"dataframe\">\n",
       "  <thead>\n",
       "    <tr>\n",
       "      <th></th>\n",
       "      <th colspan=\"8\" halign=\"left\">id</th>\n",
       "    </tr>\n",
       "    <tr>\n",
       "      <th></th>\n",
       "      <th>count</th>\n",
       "      <th>mean</th>\n",
       "      <th>std</th>\n",
       "      <th>min</th>\n",
       "      <th>25%</th>\n",
       "      <th>50%</th>\n",
       "      <th>75%</th>\n",
       "      <th>max</th>\n",
       "    </tr>\n",
       "    <tr>\n",
       "      <th>target</th>\n",
       "      <th></th>\n",
       "      <th></th>\n",
       "      <th></th>\n",
       "      <th></th>\n",
       "      <th></th>\n",
       "      <th></th>\n",
       "      <th></th>\n",
       "      <th></th>\n",
       "    </tr>\n",
       "  </thead>\n",
       "  <tbody>\n",
       "    <tr>\n",
       "      <th>0</th>\n",
       "      <td>4342.0</td>\n",
       "      <td>5276.446338</td>\n",
       "      <td>3157.206802</td>\n",
       "      <td>23.0</td>\n",
       "      <td>2513.25</td>\n",
       "      <td>5243.5</td>\n",
       "      <td>8038.5</td>\n",
       "      <td>10848.0</td>\n",
       "    </tr>\n",
       "    <tr>\n",
       "      <th>1</th>\n",
       "      <td>3271.0</td>\n",
       "      <td>5661.608071</td>\n",
       "      <td>3097.094809</td>\n",
       "      <td>1.0</td>\n",
       "      <td>3104.50</td>\n",
       "      <td>5676.0</td>\n",
       "      <td>8252.0</td>\n",
       "      <td>10873.0</td>\n",
       "    </tr>\n",
       "  </tbody>\n",
       "</table>\n",
       "</div>"
      ],
      "text/plain": [
       "            id                                                           \\\n",
       "         count         mean          std   min      25%     50%     75%   \n",
       "target                                                                    \n",
       "0       4342.0  5276.446338  3157.206802  23.0  2513.25  5243.5  8038.5   \n",
       "1       3271.0  5661.608071  3097.094809   1.0  3104.50  5676.0  8252.0   \n",
       "\n",
       "                 \n",
       "            max  \n",
       "target           \n",
       "0       10848.0  \n",
       "1       10873.0  "
      ]
     },
     "execution_count": 4,
     "metadata": {},
     "output_type": "execute_result"
    }
   ],
   "source": [
    "# Check Unbalancing Data\n",
    "train_full.groupby('target').describe()"
   ]
  },
  {
   "cell_type": "code",
   "execution_count": 5,
   "id": "3669bcbd",
   "metadata": {
    "execution": {
     "iopub.execute_input": "2021-10-24T23:35:04.295866Z",
     "iopub.status.busy": "2021-10-24T23:35:04.294769Z",
     "iopub.status.idle": "2021-10-24T23:35:04.298458Z",
     "shell.execute_reply": "2021-10-24T23:35:04.297900Z",
     "shell.execute_reply.started": "2021-10-24T22:57:56.730610Z"
    },
    "papermill": {
     "duration": 0.059374,
     "end_time": "2021-10-24T23:35:04.298610",
     "exception": false,
     "start_time": "2021-10-24T23:35:04.239236",
     "status": "completed"
    },
    "tags": []
   },
   "outputs": [],
   "source": [
    "# Using to plot model that be trained\n",
    "def plot_model(history):\n",
    "    acc = history['acc'] if 'acc' in history.keys() else history['accuracy']\n",
    "    val_acc = history['val_acc'] if 'val_acc' in history.keys() else history['val_accuracy']\n",
    "    loss = history['loss'] \n",
    "    val_loss = history['val_loss'] \n",
    "    epochs = range(len(acc))\n",
    "\n",
    "    plt.plot(epochs, acc, 'bo', label='Training acc')\n",
    "    plt.plot(epochs, val_acc, 'b', label='Validation acc')\n",
    "    plt.title('Training and validation accuracy')\n",
    "    plt.legend()\n",
    "\n",
    "    plt.figure()\n",
    "\n",
    "    plt.plot(epochs, loss, 'bo', label='Training loss')\n",
    "    plt.plot(epochs, val_loss, 'b', label='Validation loss')\n",
    "    plt.title('Training and validation loss')\n",
    "    plt.legend()\n",
    "\n",
    "    plt.show()"
   ]
  },
  {
   "cell_type": "markdown",
   "id": "da8b51c1",
   "metadata": {
    "papermill": {
     "duration": 0.047287,
     "end_time": "2021-10-24T23:35:04.393022",
     "exception": false,
     "start_time": "2021-10-24T23:35:04.345735",
     "status": "completed"
    },
    "tags": []
   },
   "source": [
    "# EDA"
   ]
  },
  {
   "cell_type": "markdown",
   "id": "1b554927",
   "metadata": {
    "papermill": {
     "duration": 0.062345,
     "end_time": "2021-10-24T23:35:04.502448",
     "exception": false,
     "start_time": "2021-10-24T23:35:04.440103",
     "status": "completed"
    },
    "tags": []
   },
   "source": [
    "# Class Distribution\n"
   ]
  },
  {
   "cell_type": "code",
   "execution_count": 6,
   "id": "34641dfb",
   "metadata": {
    "execution": {
     "iopub.execute_input": "2021-10-24T23:35:04.607619Z",
     "iopub.status.busy": "2021-10-24T23:35:04.606540Z",
     "iopub.status.idle": "2021-10-24T23:35:04.769705Z",
     "shell.execute_reply": "2021-10-24T23:35:04.770211Z",
     "shell.execute_reply.started": "2021-10-24T22:57:56.740012Z"
    },
    "papermill": {
     "duration": 0.219151,
     "end_time": "2021-10-24T23:35:04.770389",
     "exception": false,
     "start_time": "2021-10-24T23:35:04.551238",
     "status": "completed"
    },
    "tags": []
   },
   "outputs": [
    {
     "name": "stderr",
     "output_type": "stream",
     "text": [
      "/opt/conda/lib/python3.7/site-packages/seaborn/_decorators.py:43: FutureWarning: Pass the following variables as keyword args: x, y. From version 0.12, the only valid positional argument will be `data`, and passing other arguments without an explicit keyword will result in an error or misinterpretation.\n",
      "  FutureWarning\n"
     ]
    },
    {
     "data": {
      "text/plain": [
       "Text(0, 0.5, 'Number of tweets')"
      ]
     },
     "execution_count": 6,
     "metadata": {},
     "output_type": "execute_result"
    },
    {
     "data": {
      "image/png": "[encoded data removed]",
      "text/plain": [
       "<Figure size 432x288 with 1 Axes>"
      ]
     },
     "metadata": {
      "needs_background": "light"
     },
     "output_type": "display_data"
    }
   ],
   "source": [
    "# Counting the number of meaning tweet (1 is real disaster, 0 is no disaster)\n",
    "x = train_full.target.value_counts()\n",
    "# Display it\n",
    "sns.barplot(x.index, x)\n",
    "plt.gca().set_ylabel('Number of tweets')"
   ]
  },
  {
   "cell_type": "markdown",
   "id": "3d63a7a5",
   "metadata": {
    "papermill": {
     "duration": 0.049778,
     "end_time": "2021-10-24T23:35:04.870082",
     "exception": false,
     "start_time": "2021-10-24T23:35:04.820304",
     "status": "completed"
    },
    "tags": []
   },
   "source": [
    "# Number of characters in tweets"
   ]
  },
  {
   "cell_type": "code",
   "execution_count": 7,
   "id": "753aa08a",
   "metadata": {
    "execution": {
     "iopub.execute_input": "2021-10-24T23:35:04.997762Z",
     "iopub.status.busy": "2021-10-24T23:35:04.996242Z",
     "iopub.status.idle": "2021-10-24T23:35:05.377788Z",
     "shell.execute_reply": "2021-10-24T23:35:05.377087Z",
     "shell.execute_reply.started": "2021-10-24T22:57:56.883633Z"
    },
    "papermill": {
     "duration": 0.458258,
     "end_time": "2021-10-24T23:35:05.377939",
     "exception": false,
     "start_time": "2021-10-24T23:35:04.919681",
     "status": "completed"
    },
    "tags": []
   },
   "outputs": [
    {
     "data": {
      "image/png": "[encoded data removed]",
      "text/plain": [
       "<Figure size 1800x720 with 2 Axes>"
      ]
     },
     "metadata": {
      "needs_background": "light"
     },
     "output_type": "display_data"
    }
   ],
   "source": [
    "# Define the default histogram chart\n",
    "fig, (ax1, ax2) = plt.subplots(1, 2, figsize=(25,10))\n",
    "fig.suptitle(\"Characters in Tweets\", color=\"Blue\", size=30)\n",
    "# Disaster Chart\n",
    "disaster_len = train_full[train_full.target==1].text.str.len()\n",
    "ax1.hist(disaster_len, color='red')\n",
    "ax1.set_title(\"Disaster Tweets\")\n",
    "ax1.set_xlabel(\"Tweet Character Length\")\n",
    "ax1.set_ylabel(\"Quantity\")\n",
    "# No Disaster Chart\n",
    "nodisaster_len = train_full[train_full.target==0].text.str.len()\n",
    "ax2.hist(nodisaster_len, color='blue')\n",
    "ax2.set_title(\"No Disaster Tweets\")\n",
    "ax2.set_xlabel(\"Tweet Character Length\")\n",
    "ax2.set_ylabel(\"Quantity\")\n",
    "# Display charts\n",
    "plt.show()"
   ]
  },
  {
   "cell_type": "markdown",
   "id": "e7bdd68e",
   "metadata": {
    "papermill": {
     "duration": 0.050066,
     "end_time": "2021-10-24T23:35:05.479370",
     "exception": false,
     "start_time": "2021-10-24T23:35:05.429304",
     "status": "completed"
    },
    "tags": []
   },
   "source": [
    "Range from 120 to 140 characters is the most common in tweet."
   ]
  },
  {
   "cell_type": "markdown",
   "id": "15cec28d",
   "metadata": {
    "papermill": {
     "duration": 0.051547,
     "end_time": "2021-10-24T23:35:05.581821",
     "exception": false,
     "start_time": "2021-10-24T23:35:05.530274",
     "status": "completed"
    },
    "tags": []
   },
   "source": [
    "# Number of Words in a tweet"
   ]
  },
  {
   "cell_type": "code",
   "execution_count": 8,
   "id": "788235a9",
   "metadata": {
    "execution": {
     "iopub.execute_input": "2021-10-24T23:35:05.711587Z",
     "iopub.status.busy": "2021-10-24T23:35:05.708743Z",
     "iopub.status.idle": "2021-10-24T23:35:06.108343Z",
     "shell.execute_reply": "2021-10-24T23:35:06.107724Z",
     "shell.execute_reply.started": "2021-10-24T22:57:57.273022Z"
    },
    "papermill": {
     "duration": 0.475841,
     "end_time": "2021-10-24T23:35:06.108497",
     "exception": false,
     "start_time": "2021-10-24T23:35:05.632656",
     "status": "completed"
    },
    "tags": []
   },
   "outputs": [
    {
     "data": {
      "image/png": "[encoded data removed]",
      "text/plain": [
       "<Figure size 1800x720 with 2 Axes>"
      ]
     },
     "metadata": {
      "needs_background": "light"
     },
     "output_type": "display_data"
    }
   ],
   "source": [
    "# Define the defaults histogram\n",
    "fig, (ax1,ax2) = plt.subplots(1,2, figsize=(25,10))\n",
    "fig.suptitle(\"Words in Tweet\", size=30, color=\"Blue\")\n",
    "# Disaster chart\n",
    "DisasterWord_len=train_full[train_full.target==1].text.str.split().map(lambda x: len(x))\n",
    "ax1.hist(DisasterWord_len, color='Red')\n",
    "ax1.set_title(\"Disaster Tweets\")\n",
    "ax1.set_xlabel(\"Tweet Word Length\")\n",
    "ax1.set_ylabel(\"Quantity\")\n",
    "# No Disaster chart\n",
    "NoDisasterWord_len = train_full[train_full.target==0].text.str.split().map(lambda x: len(x))\n",
    "ax2.hist(NoDisasterWord_len, color='Green')\n",
    "ax2.set_title(\"No Disaster Tweets\")\n",
    "ax2.set_xlabel(\"Tweet Word Length\")\n",
    "ax2.set_ylabel(\"Quantity\")\n",
    "# Display Histogram\n",
    "plt.show()"
   ]
  },
  {
   "cell_type": "code",
   "execution_count": 9,
   "id": "454f4b3b",
   "metadata": {
    "execution": {
     "iopub.execute_input": "2021-10-24T23:35:06.241121Z",
     "iopub.status.busy": "2021-10-24T23:35:06.239901Z",
     "iopub.status.idle": "2021-10-24T23:35:07.546229Z",
     "shell.execute_reply": "2021-10-24T23:35:07.547823Z",
     "shell.execute_reply.started": "2021-10-24T22:57:57.773799Z"
    },
    "papermill": {
     "duration": 1.387995,
     "end_time": "2021-10-24T23:35:07.548149",
     "exception": false,
     "start_time": "2021-10-24T23:35:06.160154",
     "status": "completed"
    },
    "tags": []
   },
   "outputs": [
    {
     "name": "stderr",
     "output_type": "stream",
     "text": [
      "/opt/conda/lib/python3.7/site-packages/seaborn/distributions.py:2557: FutureWarning: `distplot` is a deprecated function and will be removed in a future version. Please adapt your code to use either `displot` (a figure-level function with similar flexibility) or `histplot` (an axes-level function for histograms).\n",
      "  warnings.warn(msg, FutureWarning)\n",
      "/opt/conda/lib/python3.7/site-packages/seaborn/distributions.py:2557: FutureWarning: `distplot` is a deprecated function and will be removed in a future version. Please adapt your code to use either `displot` (a figure-level function with similar flexibility) or `histplot` (an axes-level function for histograms).\n",
      "  warnings.warn(msg, FutureWarning)\n"
     ]
    },
    {
     "data": {
      "image/png": "[encoded data removed]",
      "text/plain": [
       "<Figure size 1800x720 with 2 Axes>"
      ]
     },
     "metadata": {
      "needs_background": "light"
     },
     "output_type": "display_data"
    }
   ],
   "source": [
    "# Define the default plots\n",
    "fig, (ax1, ax2) = plt.subplots(1,2,figsize=(25,10))\n",
    "fig.suptitle(\"Average Word Length in a Tweet\", color=\"blue\", size=30)\n",
    "# Disaster Plot\n",
    "DisasterAvgWord_len = train_full[train_full.target==1].text.str.split().apply(lambda x: [len(i) for i in x])\n",
    "sns.distplot(DisasterAvgWord_len.map(lambda x: np.mean(x)), ax=ax1, color='red')\n",
    "ax1.set_title(\"Disaster Tweets\")\n",
    "# Distribution Plots\n",
    "NoDisasterAvgWord_len= train_full[train_full.target==0].text.str.split().apply(lambda x: [len(i) for i in x])\n",
    "sns.distplot(NoDisasterAvgWord_len.map(lambda x: np.mean(x)), ax=ax2, color=\"green\")\n",
    "ax2.set_title(\"No Disaster Tweets\")\n",
    "# Display Plots\n",
    "plt.show()"
   ]
  },
  {
   "cell_type": "markdown",
   "id": "e1ef6226",
   "metadata": {
    "papermill": {
     "duration": 0.099909,
     "end_time": "2021-10-24T23:35:07.761880",
     "exception": false,
     "start_time": "2021-10-24T23:35:07.661971",
     "status": "completed"
    },
    "tags": []
   },
   "source": [
    "# Data Preprocessing"
   ]
  },
  {
   "cell_type": "markdown",
   "id": "81cc382b",
   "metadata": {
    "papermill": {
     "duration": 0.095076,
     "end_time": "2021-10-24T23:35:07.953115",
     "exception": false,
     "start_time": "2021-10-24T23:35:07.858039",
     "status": "completed"
    },
    "tags": []
   },
   "source": [
    "## Cleaning the corpus"
   ]
  },
  {
   "cell_type": "code",
   "execution_count": 10,
   "id": "5e64f5eb",
   "metadata": {
    "execution": {
     "iopub.execute_input": "2021-10-24T23:35:08.190188Z",
     "iopub.status.busy": "2021-10-24T23:35:08.149243Z",
     "iopub.status.idle": "2021-10-24T23:43:27.854812Z",
     "shell.execute_reply": "2021-10-24T23:43:27.854093Z",
     "shell.execute_reply.started": "2021-10-24T22:57:58.820151Z"
    },
    "papermill": {
     "duration": 499.810822,
     "end_time": "2021-10-24T23:43:27.854981",
     "exception": false,
     "start_time": "2021-10-24T23:35:08.044159",
     "status": "completed"
    },
    "tags": []
   },
   "outputs": [],
   "source": [
    "emoji_pattern = re.compile(\"[\"\n",
    "                           u\"\\U0001F600-\\U0001F64F\"  # emoticons\n",
    "                           u\"\\U0001F300-\\U0001F5FF\"  # symbols & pictographs\n",
    "                           u\"\\U0001F680-\\U0001F6FF\"  # transport & map symbols\n",
    "                           u\"\\U0001F1E0-\\U0001F1FF\"  # flags (iOS)\n",
    "                           u\"\\U00002702-\\U000027B0\"\n",
    "                           u\"\\U000024C2-\\U0001F251\"\n",
    "                           \"]+\", flags=re.UNICODE)\n",
    "# Collect all clean-corpus technics into a function\n",
    "def clean_text(tweet):\n",
    "    \n",
    "    tweet = str(tweet).lower() # Make text lowercase\n",
    "    tweet = re.sub('\\[.*?\\]', '', tweet)\n",
    "    tweet = re.sub('https?://\\S+|www\\.\\S+', '', tweet)\n",
    "    tweet = re.sub('<.*?>+', '', tweet)\n",
    "    tweet = re.sub('[%s]' % re.escape(string.punctuation), '', tweet) # Remove Punctuation\n",
    "    tweet = re.sub('\\n', '', tweet)\n",
    "    tweet = re.sub('\\w*\\d\\w*', '', tweet)\n",
    "    \n",
    "    # Remove Emoji\n",
    "    tweet = emoji_pattern.sub(r'', tweet)\n",
    "    # Special characters\n",
    "    tweet = re.sub(r\"\\x89Û_\", \"\", tweet)\n",
    "    tweet = re.sub(r\"\\x89ÛÒ\", \"\", tweet)\n",
    "    tweet = re.sub(r\"\\x89ÛÓ\", \"\", tweet)\n",
    "    tweet = re.sub(r\"\\x89ÛÏWhen\", \"When\", tweet)\n",
    "    tweet = re.sub(r\"\\x89ÛÏ\", \"\", tweet)\n",
    "    tweet = re.sub(r\"China\\x89Ûªs\", \"China's\", tweet)\n",
    "    tweet = re.sub(r\"let\\x89Ûªs\", \"let's\", tweet)\n",
    "    tweet = re.sub(r\"\\x89Û÷\", \"\", tweet)\n",
    "    tweet = re.sub(r\"\\x89Ûª\", \"\", tweet)\n",
    "    tweet = re.sub(r\"\\x89Û\\x9d\", \"\", tweet)\n",
    "    tweet = re.sub(r\"å_\", \"\", tweet)\n",
    "    tweet = re.sub(r\"\\x89Û¢\", \"\", tweet)\n",
    "    tweet = re.sub(r\"\\x89Û¢åÊ\", \"\", tweet)\n",
    "    tweet = re.sub(r\"fromåÊwounds\", \"from wounds\", tweet)\n",
    "    tweet = re.sub(r\"åÊ\", \"\", tweet)\n",
    "    tweet = re.sub(r\"åÈ\", \"\", tweet)\n",
    "    tweet = re.sub(r\"JapÌ_n\", \"Japan\", tweet)    \n",
    "    tweet = re.sub(r\"Ì©\", \"e\", tweet)\n",
    "    tweet = re.sub(r\"å¨\", \"\", tweet)\n",
    "    tweet = re.sub(r\"SuruÌ¤\", \"Suruc\", tweet)\n",
    "    tweet = re.sub(r\"åÇ\", \"\", tweet)\n",
    "    tweet = re.sub(r\"å£3million\", \"3 million\", tweet)\n",
    "    tweet = re.sub(r\"åÀ\", \"\", tweet)\n",
    "    \n",
    "    # Contractions\n",
    "    tweet = re.sub(r\"he's\", \"he is\", tweet)\n",
    "    tweet = re.sub(r\"there's\", \"there is\", tweet)\n",
    "    tweet = re.sub(r\"We're\", \"We are\", tweet)\n",
    "    tweet = re.sub(r\"That's\", \"That is\", tweet)\n",
    "    tweet = re.sub(r\"won't\", \"will not\", tweet)\n",
    "    tweet = re.sub(r\"they're\", \"they are\", tweet)\n",
    "    tweet = re.sub(r\"Can't\", \"Cannot\", tweet)\n",
    "    tweet = re.sub(r\"wasn't\", \"was not\", tweet)\n",
    "    tweet = re.sub(r\"don\\x89Ûªt\", \"do not\", tweet)\n",
    "    tweet = re.sub(r\"aren't\", \"are not\", tweet)\n",
    "    tweet = re.sub(r\"isn't\", \"is not\", tweet)\n",
    "    tweet = re.sub(r\"What's\", \"What is\", tweet)\n",
    "    tweet = re.sub(r\"haven't\", \"have not\", tweet)\n",
    "    tweet = re.sub(r\"hasn't\", \"has not\", tweet)\n",
    "    tweet = re.sub(r\"There's\", \"There is\", tweet)\n",
    "    tweet = re.sub(r\"He's\", \"He is\", tweet)\n",
    "    tweet = re.sub(r\"It's\", \"It is\", tweet)\n",
    "    tweet = re.sub(r\"You're\", \"You are\", tweet)\n",
    "    tweet = re.sub(r\"I'M\", \"I am\", tweet)\n",
    "    tweet = re.sub(r\"shouldn't\", \"should not\", tweet)\n",
    "    tweet = re.sub(r\"wouldn't\", \"would not\", tweet)\n",
    "    tweet = re.sub(r\"i'm\", \"I am\", tweet)\n",
    "    tweet = re.sub(r\"I\\x89Ûªm\", \"I am\", tweet)\n",
    "    tweet = re.sub(r\"I'm\", \"I am\", tweet)\n",
    "    tweet = re.sub(r\"Isn't\", \"is not\", tweet)\n",
    "    tweet = re.sub(r\"Here's\", \"Here is\", tweet)\n",
    "    tweet = re.sub(r\"you've\", \"you have\", tweet)\n",
    "    tweet = re.sub(r\"you\\x89Ûªve\", \"you have\", tweet)\n",
    "    tweet = re.sub(r\"we're\", \"we are\", tweet)\n",
    "    tweet = re.sub(r\"what's\", \"what is\", tweet)\n",
    "    tweet = re.sub(r\"couldn't\", \"could not\", tweet)\n",
    "    tweet = re.sub(r\"we've\", \"we have\", tweet)\n",
    "    tweet = re.sub(r\"it\\x89Ûªs\", \"it is\", tweet)\n",
    "    tweet = re.sub(r\"doesn\\x89Ûªt\", \"does not\", tweet)\n",
    "    tweet = re.sub(r\"It\\x89Ûªs\", \"It is\", tweet)\n",
    "    tweet = re.sub(r\"Here\\x89Ûªs\", \"Here is\", tweet)\n",
    "    tweet = re.sub(r\"who's\", \"who is\", tweet)\n",
    "    tweet = re.sub(r\"I\\x89Ûªve\", \"I have\", tweet)\n",
    "    tweet = re.sub(r\"y'all\", \"you all\", tweet)\n",
    "    tweet = re.sub(r\"can\\x89Ûªt\", \"cannot\", tweet)\n",
    "    tweet = re.sub(r\"would've\", \"would have\", tweet)\n",
    "    tweet = re.sub(r\"it'll\", \"it will\", tweet)\n",
    "    tweet = re.sub(r\"we'll\", \"we will\", tweet)\n",
    "    tweet = re.sub(r\"wouldn\\x89Ûªt\", \"would not\", tweet)\n",
    "    tweet = re.sub(r\"We've\", \"We have\", tweet)\n",
    "    tweet = re.sub(r\"he'll\", \"he will\", tweet)\n",
    "    tweet = re.sub(r\"Y'all\", \"You all\", tweet)\n",
    "    tweet = re.sub(r\"Weren't\", \"Were not\", tweet)\n",
    "    tweet = re.sub(r\"Didn't\", \"Did not\", tweet)\n",
    "    tweet = re.sub(r\"they'll\", \"they will\", tweet)\n",
    "    tweet = re.sub(r\"they'd\", \"they would\", tweet)\n",
    "    tweet = re.sub(r\"DON'T\", \"DO NOT\", tweet)\n",
    "    tweet = re.sub(r\"That\\x89Ûªs\", \"That is\", tweet)\n",
    "    tweet = re.sub(r\"they've\", \"they have\", tweet)\n",
    "    tweet = re.sub(r\"i'd\", \"I would\", tweet)\n",
    "    tweet = re.sub(r\"should've\", \"should have\", tweet)\n",
    "    tweet = re.sub(r\"You\\x89Ûªre\", \"You are\", tweet)\n",
    "    tweet = re.sub(r\"where's\", \"where is\", tweet)\n",
    "    tweet = re.sub(r\"Don\\x89Ûªt\", \"Do not\", tweet)\n",
    "    tweet = re.sub(r\"we'd\", \"we would\", tweet)\n",
    "    tweet = re.sub(r\"i'll\", \"I will\", tweet)\n",
    "    tweet = re.sub(r\"weren't\", \"were not\", tweet)\n",
    "    tweet = re.sub(r\"They're\", \"They are\", tweet)\n",
    "    tweet = re.sub(r\"Can\\x89Ûªt\", \"Cannot\", tweet)\n",
    "    tweet = re.sub(r\"you\\x89Ûªll\", \"you will\", tweet)\n",
    "    tweet = re.sub(r\"I\\x89Ûªd\", \"I would\", tweet)\n",
    "    tweet = re.sub(r\"let's\", \"let us\", tweet)\n",
    "    tweet = re.sub(r\"it's\", \"it is\", tweet)\n",
    "    tweet = re.sub(r\"can't\", \"cannot\", tweet)\n",
    "    tweet = re.sub(r\"don't\", \"do not\", tweet)\n",
    "    tweet = re.sub(r\"you're\", \"you are\", tweet)\n",
    "    tweet = re.sub(r\"i've\", \"I have\", tweet)\n",
    "    tweet = re.sub(r\"that's\", \"that is\", tweet)\n",
    "    tweet = re.sub(r\"i'll\", \"I will\", tweet)\n",
    "    tweet = re.sub(r\"doesn't\", \"does not\", tweet)\n",
    "    tweet = re.sub(r\"i'd\", \"I would\", tweet)\n",
    "    tweet = re.sub(r\"didn't\", \"did not\", tweet)\n",
    "    tweet = re.sub(r\"ain't\", \"am not\", tweet)\n",
    "    tweet = re.sub(r\"you'll\", \"you will\", tweet)\n",
    "    tweet = re.sub(r\"I've\", \"I have\", tweet)\n",
    "    tweet = re.sub(r\"Don't\", \"do not\", tweet)\n",
    "    tweet = re.sub(r\"I'll\", \"I will\", tweet)\n",
    "    tweet = re.sub(r\"I'd\", \"I would\", tweet)\n",
    "    tweet = re.sub(r\"Let's\", \"Let us\", tweet)\n",
    "    tweet = re.sub(r\"you'd\", \"You would\", tweet)\n",
    "    tweet = re.sub(r\"It's\", \"It is\", tweet)\n",
    "    tweet = re.sub(r\"Ain't\", \"am not\", tweet)\n",
    "    tweet = re.sub(r\"Haven't\", \"Have not\", tweet)\n",
    "    tweet = re.sub(r\"Could've\", \"Could have\", tweet)\n",
    "    tweet = re.sub(r\"youve\", \"you have\", tweet)  \n",
    "    tweet = re.sub(r\"donå«t\", \"do not\", tweet)   \n",
    "    \n",
    "    # Character entity references\n",
    "    tweet = re.sub(r\"&gt;\", \">\", tweet)\n",
    "    tweet = re.sub(r\"&lt;\", \"<\", tweet)\n",
    "    tweet = re.sub(r\"&amp;\", \"&\", tweet)\n",
    "    \n",
    "    # Typos, slang and informal abbreviations\n",
    "    tweet = re.sub(r\"w/e\", \"whatever\", tweet)\n",
    "    tweet = re.sub(r\"w/\", \"with\", tweet)\n",
    "    tweet = re.sub(r\"USAgov\", \"USA government\", tweet)\n",
    "    tweet = re.sub(r\"recentlu\", \"recently\", tweet)\n",
    "    tweet = re.sub(r\"Ph0tos\", \"Photos\", tweet)\n",
    "    tweet = re.sub(r\"amirite\", \"am I right\", tweet)\n",
    "    tweet = re.sub(r\"exp0sed\", \"exposed\", tweet)\n",
    "    tweet = re.sub(r\"<3\", \"love\", tweet)\n",
    "    tweet = re.sub(r\"amageddon\", \"armageddon\", tweet)\n",
    "    tweet = re.sub(r\"Trfc\", \"Traffic\", tweet)\n",
    "    tweet = re.sub(r\"8/5/2015\", \"2015-08-05\", tweet)\n",
    "    tweet = re.sub(r\"WindStorm\", \"Wind Storm\", tweet)\n",
    "    tweet = re.sub(r\"8/6/2015\", \"2015-08-06\", tweet)\n",
    "    tweet = re.sub(r\"10:38PM\", \"10:38 PM\", tweet)\n",
    "    tweet = re.sub(r\"10:30pm\", \"10:30 PM\", tweet)\n",
    "    tweet = re.sub(r\"16yr\", \"16 year\", tweet)\n",
    "    tweet = re.sub(r\"lmao\", \"laughing my ass off\", tweet)   \n",
    "    tweet = re.sub(r\"TRAUMATISED\", \"traumatized\", tweet)\n",
    "    \n",
    "    # Hashtags and usernames\n",
    "    tweet = re.sub(r\"IranDeal\", \"Iran Deal\", tweet)\n",
    "    tweet = re.sub(r\"ArianaGrande\", \"Ariana Grande\", tweet)\n",
    "    tweet = re.sub(r\"camilacabello97\", \"camila cabello\", tweet) \n",
    "    tweet = re.sub(r\"RondaRousey\", \"Ronda Rousey\", tweet)     \n",
    "    tweet = re.sub(r\"MTVHottest\", \"MTV Hottest\", tweet)\n",
    "    tweet = re.sub(r\"TrapMusic\", \"Trap Music\", tweet)\n",
    "    tweet = re.sub(r\"ProphetMuhammad\", \"Prophet Muhammad\", tweet)\n",
    "    tweet = re.sub(r\"PantherAttack\", \"Panther Attack\", tweet)\n",
    "    tweet = re.sub(r\"StrategicPatience\", \"Strategic Patience\", tweet)\n",
    "    tweet = re.sub(r\"socialnews\", \"social news\", tweet)\n",
    "    tweet = re.sub(r\"NASAHurricane\", \"NASA Hurricane\", tweet)\n",
    "    tweet = re.sub(r\"onlinecommunities\", \"online communities\", tweet)\n",
    "    tweet = re.sub(r\"humanconsumption\", \"human consumption\", tweet)\n",
    "    tweet = re.sub(r\"Typhoon-Devastated\", \"Typhoon Devastated\", tweet)\n",
    "    tweet = re.sub(r\"Meat-Loving\", \"Meat Loving\", tweet)\n",
    "    tweet = re.sub(r\"facialabuse\", \"facial abuse\", tweet)\n",
    "    tweet = re.sub(r\"LakeCounty\", \"Lake County\", tweet)\n",
    "    tweet = re.sub(r\"BeingAuthor\", \"Being Author\", tweet)\n",
    "    tweet = re.sub(r\"withheavenly\", \"with heavenly\", tweet)\n",
    "    tweet = re.sub(r\"thankU\", \"thank you\", tweet)\n",
    "    tweet = re.sub(r\"iTunesMusic\", \"iTunes Music\", tweet)\n",
    "    tweet = re.sub(r\"OffensiveContent\", \"Offensive Content\", tweet)\n",
    "    tweet = re.sub(r\"WorstSummerJob\", \"Worst Summer Job\", tweet)\n",
    "    tweet = re.sub(r\"HarryBeCareful\", \"Harry Be Careful\", tweet)\n",
    "    tweet = re.sub(r\"NASASolarSystem\", \"NASA Solar System\", tweet)\n",
    "    tweet = re.sub(r\"animalrescue\", \"animal rescue\", tweet)\n",
    "    tweet = re.sub(r\"KurtSchlichter\", \"Kurt Schlichter\", tweet)\n",
    "    tweet = re.sub(r\"aRmageddon\", \"armageddon\", tweet)\n",
    "    tweet = re.sub(r\"Throwingknifes\", \"Throwing knives\", tweet)\n",
    "    tweet = re.sub(r\"GodsLove\", \"God's Love\", tweet)\n",
    "    tweet = re.sub(r\"bookboost\", \"book boost\", tweet)\n",
    "    tweet = re.sub(r\"ibooklove\", \"I book love\", tweet)\n",
    "    tweet = re.sub(r\"NestleIndia\", \"Nestle India\", tweet)\n",
    "    tweet = re.sub(r\"realDonaldTrump\", \"Donald Trump\", tweet)\n",
    "    tweet = re.sub(r\"DavidVonderhaar\", \"David Vonderhaar\", tweet)\n",
    "    tweet = re.sub(r\"CecilTheLion\", \"Cecil The Lion\", tweet)\n",
    "    tweet = re.sub(r\"weathernetwork\", \"weather network\", tweet)\n",
    "    tweet = re.sub(r\"withBioterrorism&use\", \"with Bioterrorism & use\", tweet)\n",
    "    tweet = re.sub(r\"Hostage&2\", \"Hostage & 2\", tweet)\n",
    "    tweet = re.sub(r\"GOPDebate\", \"GOP Debate\", tweet)\n",
    "    tweet = re.sub(r\"RickPerry\", \"Rick Perry\", tweet)\n",
    "    tweet = re.sub(r\"frontpage\", \"front page\", tweet)\n",
    "    tweet = re.sub(r\"NewsInTweets\", \"News In Tweets\", tweet)\n",
    "    tweet = re.sub(r\"ViralSpell\", \"Viral Spell\", tweet)\n",
    "    tweet = re.sub(r\"til_now\", \"until now\", tweet)\n",
    "    tweet = re.sub(r\"volcanoinRussia\", \"volcano in Russia\", tweet)\n",
    "    tweet = re.sub(r\"ZippedNews\", \"Zipped News\", tweet)\n",
    "    tweet = re.sub(r\"MicheleBachman\", \"Michele Bachman\", tweet)\n",
    "    tweet = re.sub(r\"53inch\", \"53 inch\", tweet)\n",
    "    tweet = re.sub(r\"KerrickTrial\", \"Kerrick Trial\", tweet)\n",
    "    tweet = re.sub(r\"abstorm\", \"Alberta Storm\", tweet)\n",
    "    tweet = re.sub(r\"Beyhive\", \"Beyonce hive\", tweet)\n",
    "    tweet = re.sub(r\"IDFire\", \"Idaho Fire\", tweet)\n",
    "    tweet = re.sub(r\"DETECTADO\", \"Detected\", tweet)\n",
    "    tweet = re.sub(r\"RockyFire\", \"Rocky Fire\", tweet)\n",
    "    tweet = re.sub(r\"Listen/Buy\", \"Listen / Buy\", tweet)\n",
    "    tweet = re.sub(r\"NickCannon\", \"Nick Cannon\", tweet)\n",
    "    tweet = re.sub(r\"FaroeIslands\", \"Faroe Islands\", tweet)\n",
    "    tweet = re.sub(r\"yycstorm\", \"Calgary Storm\", tweet)\n",
    "    tweet = re.sub(r\"IDPs:\", \"Internally Displaced People :\", tweet)\n",
    "    tweet = re.sub(r\"ArtistsUnited\", \"Artists United\", tweet)\n",
    "    tweet = re.sub(r\"ClaytonBryant\", \"Clayton Bryant\", tweet)\n",
    "    tweet = re.sub(r\"jimmyfallon\", \"jimmy fallon\", tweet)\n",
    "    tweet = re.sub(r\"justinbieber\", \"justin bieber\", tweet)  \n",
    "    tweet = re.sub(r\"UTC2015\", \"UTC 2015\", tweet)\n",
    "    tweet = re.sub(r\"Time2015\", \"Time 2015\", tweet)\n",
    "    tweet = re.sub(r\"djicemoon\", \"dj icemoon\", tweet)\n",
    "    tweet = re.sub(r\"LivingSafely\", \"Living Safely\", tweet)\n",
    "    tweet = re.sub(r\"FIFA16\", \"Fifa 2016\", tweet)\n",
    "    tweet = re.sub(r\"thisiswhywecanthavenicethings\", \"this is why we cannot have nice things\", tweet)\n",
    "    tweet = re.sub(r\"bbcnews\", \"bbc news\", tweet)\n",
    "    tweet = re.sub(r\"UndergroundRailraod\", \"Underground Railraod\", tweet)\n",
    "    tweet = re.sub(r\"c4news\", \"c4 news\", tweet)\n",
    "    tweet = re.sub(r\"OBLITERATION\", \"obliteration\", tweet)\n",
    "    tweet = re.sub(r\"MUDSLIDE\", \"mudslide\", tweet)\n",
    "    tweet = re.sub(r\"NoSurrender\", \"No Surrender\", tweet)\n",
    "    tweet = re.sub(r\"NotExplained\", \"Not Explained\", tweet)\n",
    "    tweet = re.sub(r\"greatbritishbakeoff\", \"great british bake off\", tweet)\n",
    "    tweet = re.sub(r\"LondonFire\", \"London Fire\", tweet)\n",
    "    tweet = re.sub(r\"KOTAWeather\", \"KOTA Weather\", tweet)\n",
    "    tweet = re.sub(r\"LuchaUnderground\", \"Lucha Underground\", tweet)\n",
    "    tweet = re.sub(r\"KOIN6News\", \"KOIN 6 News\", tweet)\n",
    "    tweet = re.sub(r\"LiveOnK2\", \"Live On K2\", tweet)\n",
    "    tweet = re.sub(r\"9NewsGoldCoast\", \"9 News Gold Coast\", tweet)\n",
    "    tweet = re.sub(r\"nikeplus\", \"nike plus\", tweet)\n",
    "    tweet = re.sub(r\"david_cameron\", \"David Cameron\", tweet)\n",
    "    tweet = re.sub(r\"peterjukes\", \"Peter Jukes\", tweet)\n",
    "    tweet = re.sub(r\"JamesMelville\", \"James Melville\", tweet)\n",
    "    tweet = re.sub(r\"megynkelly\", \"Megyn Kelly\", tweet)\n",
    "    tweet = re.sub(r\"cnewslive\", \"C News Live\", tweet)\n",
    "    tweet = re.sub(r\"JamaicaObserver\", \"Jamaica Observer\", tweet)\n",
    "    tweet = re.sub(r\"TweetLikeItsSeptember11th2001\", \"Tweet like it is september 11th 2001\", tweet)\n",
    "    tweet = re.sub(r\"cbplawyers\", \"cbp lawyers\", tweet)\n",
    "    tweet = re.sub(r\"fewmoretweets\", \"few more tweets\", tweet)\n",
    "    tweet = re.sub(r\"BlackLivesMatter\", \"Black Lives Matter\", tweet)\n",
    "    tweet = re.sub(r\"cjoyner\", \"Chris Joyner\", tweet)\n",
    "    tweet = re.sub(r\"ENGvAUS\", \"England vs Australia\", tweet)\n",
    "    tweet = re.sub(r\"ScottWalker\", \"Scott Walker\", tweet)\n",
    "    tweet = re.sub(r\"MikeParrActor\", \"Michael Parr\", tweet)\n",
    "    tweet = re.sub(r\"4PlayThursdays\", \"Foreplay Thursdays\", tweet)\n",
    "    tweet = re.sub(r\"TGF2015\", \"Tontitown Grape Festival\", tweet)\n",
    "    tweet = re.sub(r\"realmandyrain\", \"Mandy Rain\", tweet)\n",
    "    tweet = re.sub(r\"GraysonDolan\", \"Grayson Dolan\", tweet)\n",
    "    tweet = re.sub(r\"ApolloBrown\", \"Apollo Brown\", tweet)\n",
    "    tweet = re.sub(r\"saddlebrooke\", \"Saddlebrooke\", tweet)\n",
    "    tweet = re.sub(r\"TontitownGrape\", \"Tontitown Grape\", tweet)\n",
    "    tweet = re.sub(r\"AbbsWinston\", \"Abbs Winston\", tweet)\n",
    "    tweet = re.sub(r\"ShaunKing\", \"Shaun King\", tweet)\n",
    "    tweet = re.sub(r\"MeekMill\", \"Meek Mill\", tweet)\n",
    "    tweet = re.sub(r\"TornadoGiveaway\", \"Tornado Giveaway\", tweet)\n",
    "    tweet = re.sub(r\"GRupdates\", \"GR updates\", tweet)\n",
    "    tweet = re.sub(r\"SouthDowns\", \"South Downs\", tweet)\n",
    "    tweet = re.sub(r\"braininjury\", \"brain injury\", tweet)\n",
    "    tweet = re.sub(r\"auspol\", \"Australian politics\", tweet)\n",
    "    tweet = re.sub(r\"PlannedParenthood\", \"Planned Parenthood\", tweet)\n",
    "    tweet = re.sub(r\"calgaryweather\", \"Calgary Weather\", tweet)\n",
    "    tweet = re.sub(r\"weallheartonedirection\", \"we all heart one direction\", tweet)\n",
    "    tweet = re.sub(r\"edsheeran\", \"Ed Sheeran\", tweet)\n",
    "    tweet = re.sub(r\"TrueHeroes\", \"True Heroes\", tweet)\n",
    "    tweet = re.sub(r\"S3XLEAK\", \"sex leak\", tweet)\n",
    "    tweet = re.sub(r\"ComplexMag\", \"Complex Magazine\", tweet)\n",
    "    tweet = re.sub(r\"TheAdvocateMag\", \"The Advocate Magazine\", tweet)\n",
    "    tweet = re.sub(r\"CityofCalgary\", \"City of Calgary\", tweet)\n",
    "    tweet = re.sub(r\"EbolaOutbreak\", \"Ebola Outbreak\", tweet)\n",
    "    tweet = re.sub(r\"SummerFate\", \"Summer Fate\", tweet)\n",
    "    tweet = re.sub(r\"RAmag\", \"Royal Academy Magazine\", tweet)\n",
    "    tweet = re.sub(r\"offers2go\", \"offers to go\", tweet)\n",
    "    tweet = re.sub(r\"foodscare\", \"food scare\", tweet)\n",
    "    tweet = re.sub(r\"MNPDNashville\", \"Metropolitan Nashville Police Department\", tweet)\n",
    "    tweet = re.sub(r\"TfLBusAlerts\", \"TfL Bus Alerts\", tweet)\n",
    "    tweet = re.sub(r\"GamerGate\", \"Gamer Gate\", tweet)\n",
    "    tweet = re.sub(r\"IHHen\", \"Humanitarian Relief\", tweet)\n",
    "    tweet = re.sub(r\"spinningbot\", \"spinning bot\", tweet)\n",
    "    tweet = re.sub(r\"ModiMinistry\", \"Modi Ministry\", tweet)\n",
    "    tweet = re.sub(r\"TAXIWAYS\", \"taxi ways\", tweet)\n",
    "    tweet = re.sub(r\"Calum5SOS\", \"Calum Hood\", tweet)\n",
    "    tweet = re.sub(r\"po_st\", \"po.st\", tweet)\n",
    "    tweet = re.sub(r\"scoopit\", \"scoop.it\", tweet)\n",
    "    tweet = re.sub(r\"UltimaLucha\", \"Ultima Lucha\", tweet)\n",
    "    tweet = re.sub(r\"JonathanFerrell\", \"Jonathan Ferrell\", tweet)\n",
    "    tweet = re.sub(r\"aria_ahrary\", \"Aria Ahrary\", tweet)\n",
    "    tweet = re.sub(r\"rapidcity\", \"Rapid City\", tweet)\n",
    "    tweet = re.sub(r\"OutBid\", \"outbid\", tweet)\n",
    "    tweet = re.sub(r\"lavenderpoetrycafe\", \"lavender poetry cafe\", tweet)\n",
    "    tweet = re.sub(r\"EudryLantiqua\", \"Eudry Lantiqua\", tweet)\n",
    "    tweet = re.sub(r\"15PM\", \"15 PM\", tweet)\n",
    "    tweet = re.sub(r\"OriginalFunko\", \"Funko\", tweet)\n",
    "    tweet = re.sub(r\"rightwaystan\", \"Richard Tan\", tweet)\n",
    "    tweet = re.sub(r\"CindyNoonan\", \"Cindy Noonan\", tweet)\n",
    "    tweet = re.sub(r\"RT_America\", \"RT America\", tweet)\n",
    "    tweet = re.sub(r\"narendramodi\", \"Narendra Modi\", tweet)\n",
    "    tweet = re.sub(r\"BakeOffFriends\", \"Bake Off Friends\", tweet)\n",
    "    tweet = re.sub(r\"TeamHendrick\", \"Hendrick Motorsports\", tweet)\n",
    "    tweet = re.sub(r\"alexbelloli\", \"Alex Belloli\", tweet)\n",
    "    tweet = re.sub(r\"itsjustinstuart\", \"Justin Stuart\", tweet)\n",
    "    tweet = re.sub(r\"gunsense\", \"gun sense\", tweet)\n",
    "    tweet = re.sub(r\"DebateQuestionsWeWantToHear\", \"debate questions we want to hear\", tweet)\n",
    "    tweet = re.sub(r\"RoyalCarribean\", \"Royal Carribean\", tweet)\n",
    "    tweet = re.sub(r\"samanthaturne19\", \"Samantha Turner\", tweet)\n",
    "    tweet = re.sub(r\"JonVoyage\", \"Jon Stewart\", tweet)\n",
    "    tweet = re.sub(r\"renew911health\", \"renew 911 health\", tweet)\n",
    "    tweet = re.sub(r\"SuryaRay\", \"Surya Ray\", tweet)\n",
    "    tweet = re.sub(r\"pattonoswalt\", \"Patton Oswalt\", tweet)\n",
    "    tweet = re.sub(r\"minhazmerchant\", \"Minhaz Merchant\", tweet)\n",
    "    tweet = re.sub(r\"TLVFaces\", \"Israel Diaspora Coalition\", tweet)\n",
    "    tweet = re.sub(r\"pmarca\", \"Marc Andreessen\", tweet)\n",
    "    tweet = re.sub(r\"pdx911\", \"Portland Police\", tweet)\n",
    "    tweet = re.sub(r\"jamaicaplain\", \"Jamaica Plain\", tweet)\n",
    "    tweet = re.sub(r\"Japton\", \"Arkansas\", tweet)\n",
    "    tweet = re.sub(r\"RouteComplex\", \"Route Complex\", tweet)\n",
    "    tweet = re.sub(r\"INSubcontinent\", \"Indian Subcontinent\", tweet)\n",
    "    tweet = re.sub(r\"NJTurnpike\", \"New Jersey Turnpike\", tweet)\n",
    "    tweet = re.sub(r\"Politifiact\", \"PolitiFact\", tweet)\n",
    "    tweet = re.sub(r\"Hiroshima70\", \"Hiroshima\", tweet)\n",
    "    tweet = re.sub(r\"GMMBC\", \"Greater Mt Moriah Baptist Church\", tweet)\n",
    "    tweet = re.sub(r\"versethe\", \"verse the\", tweet)\n",
    "    tweet = re.sub(r\"TubeStrike\", \"Tube Strike\", tweet)\n",
    "    tweet = re.sub(r\"MissionHills\", \"Mission Hills\", tweet)\n",
    "    tweet = re.sub(r\"ProtectDenaliWolves\", \"Protect Denali Wolves\", tweet)\n",
    "    tweet = re.sub(r\"NANKANA\", \"Nankana\", tweet)\n",
    "    tweet = re.sub(r\"SAHIB\", \"Sahib\", tweet)\n",
    "    tweet = re.sub(r\"PAKPATTAN\", \"Pakpattan\", tweet)\n",
    "    tweet = re.sub(r\"Newz_Sacramento\", \"News Sacramento\", tweet)\n",
    "    tweet = re.sub(r\"gofundme\", \"go fund me\", tweet)\n",
    "    tweet = re.sub(r\"pmharper\", \"Stephen Harper\", tweet)\n",
    "    tweet = re.sub(r\"IvanBerroa\", \"Ivan Berroa\", tweet)\n",
    "    tweet = re.sub(r\"LosDelSonido\", \"Los Del Sonido\", tweet)\n",
    "    tweet = re.sub(r\"bancodeseries\", \"banco de series\", tweet)\n",
    "    tweet = re.sub(r\"timkaine\", \"Tim Kaine\", tweet)\n",
    "    tweet = re.sub(r\"IdentityTheft\", \"Identity Theft\", tweet)\n",
    "    tweet = re.sub(r\"AllLivesMatter\", \"All Lives Matter\", tweet)\n",
    "    tweet = re.sub(r\"mishacollins\", \"Misha Collins\", tweet)\n",
    "    tweet = re.sub(r\"BillNeelyNBC\", \"Bill Neely\", tweet)\n",
    "    tweet = re.sub(r\"BeClearOnCancer\", \"be clear on cancer\", tweet)\n",
    "    tweet = re.sub(r\"Kowing\", \"Knowing\", tweet)\n",
    "    tweet = re.sub(r\"ScreamQueens\", \"Scream Queens\", tweet)\n",
    "    tweet = re.sub(r\"AskCharley\", \"Ask Charley\", tweet)\n",
    "    tweet = re.sub(r\"BlizzHeroes\", \"Heroes of the Storm\", tweet)\n",
    "    tweet = re.sub(r\"BradleyBrad47\", \"Bradley Brad\", tweet)\n",
    "    tweet = re.sub(r\"HannaPH\", \"Typhoon Hanna\", tweet)\n",
    "    tweet = re.sub(r\"meinlcymbals\", \"MEINL Cymbals\", tweet)\n",
    "    tweet = re.sub(r\"Ptbo\", \"Peterborough\", tweet)\n",
    "    tweet = re.sub(r\"cnnbrk\", \"CNN Breaking News\", tweet)\n",
    "    tweet = re.sub(r\"IndianNews\", \"Indian News\", tweet)\n",
    "    tweet = re.sub(r\"savebees\", \"save bees\", tweet)\n",
    "    tweet = re.sub(r\"GreenHarvard\", \"Green Harvard\", tweet)\n",
    "    tweet = re.sub(r\"StandwithPP\", \"Stand with planned parenthood\", tweet)\n",
    "    tweet = re.sub(r\"hermancranston\", \"Herman Cranston\", tweet)\n",
    "    tweet = re.sub(r\"WMUR9\", \"WMUR-TV\", tweet)\n",
    "    tweet = re.sub(r\"RockBottomRadFM\", \"Rock Bottom Radio\", tweet)\n",
    "    tweet = re.sub(r\"ameenshaikh3\", \"Ameen Shaikh\", tweet)\n",
    "    tweet = re.sub(r\"ProSyn\", \"Project Syndicate\", tweet)\n",
    "    tweet = re.sub(r\"Daesh\", \"ISIS\", tweet)\n",
    "    tweet = re.sub(r\"s2g\", \"swear to god\", tweet)\n",
    "    tweet = re.sub(r\"listenlive\", \"listen live\", tweet)\n",
    "    tweet = re.sub(r\"CDCgov\", \"Centers for Disease Control and Prevention\", tweet)\n",
    "    tweet = re.sub(r\"FoxNew\", \"Fox News\", tweet)\n",
    "    tweet = re.sub(r\"CBSBigBrother\", \"Big Brother\", tweet)\n",
    "    tweet = re.sub(r\"JulieDiCaro\", \"Julie DiCaro\", tweet)\n",
    "    tweet = re.sub(r\"theadvocatemag\", \"The Advocate Magazine\", tweet)\n",
    "    tweet = re.sub(r\"RohnertParkDPS\", \"Rohnert Park Police Department\", tweet)\n",
    "    tweet = re.sub(r\"THISIZBWRIGHT\", \"Bonnie Wright\", tweet)\n",
    "    tweet = re.sub(r\"Popularmmos\", \"Popular MMOs\", tweet)\n",
    "    tweet = re.sub(r\"WildHorses\", \"Wild Horses\", tweet)\n",
    "    tweet = re.sub(r\"FantasticFour\", \"Fantastic Four\", tweet)\n",
    "    tweet = re.sub(r\"HORNDALE\", \"Horndale\", tweet)\n",
    "    tweet = re.sub(r\"PINER\", \"Piner\", tweet)\n",
    "    tweet = re.sub(r\"BathAndNorthEastSomerset\", \"Bath and North East Somerset\", tweet)\n",
    "    tweet = re.sub(r\"thatswhatfriendsarefor\", \"that is what friends are for\", tweet)\n",
    "    tweet = re.sub(r\"residualincome\", \"residual income\", tweet)\n",
    "    tweet = re.sub(r\"YahooNewsDigest\", \"Yahoo News Digest\", tweet)\n",
    "    tweet = re.sub(r\"MalaysiaAirlines\", \"Malaysia Airlines\", tweet)\n",
    "    tweet = re.sub(r\"AmazonDeals\", \"Amazon Deals\", tweet)\n",
    "    tweet = re.sub(r\"MissCharleyWebb\", \"Charley Webb\", tweet)\n",
    "    tweet = re.sub(r\"shoalstraffic\", \"shoals traffic\", tweet)\n",
    "    tweet = re.sub(r\"GeorgeFoster72\", \"George Foster\", tweet)\n",
    "    tweet = re.sub(r\"pop2015\", \"pop 2015\", tweet)\n",
    "    tweet = re.sub(r\"_PokemonCards_\", \"Pokemon Cards\", tweet)\n",
    "    tweet = re.sub(r\"DianneG\", \"Dianne Gallagher\", tweet)\n",
    "    tweet = re.sub(r\"KashmirConflict\", \"Kashmir Conflict\", tweet)\n",
    "    tweet = re.sub(r\"BritishBakeOff\", \"British Bake Off\", tweet)\n",
    "    tweet = re.sub(r\"FreeKashmir\", \"Free Kashmir\", tweet)\n",
    "    tweet = re.sub(r\"mattmosley\", \"Matt Mosley\", tweet)\n",
    "    tweet = re.sub(r\"BishopFred\", \"Bishop Fred\", tweet)\n",
    "    tweet = re.sub(r\"EndConflict\", \"End Conflict\", tweet)\n",
    "    tweet = re.sub(r\"EndOccupation\", \"End Occupation\", tweet)\n",
    "    tweet = re.sub(r\"UNHEALED\", \"unhealed\", tweet)\n",
    "    tweet = re.sub(r\"CharlesDagnall\", \"Charles Dagnall\", tweet)\n",
    "    tweet = re.sub(r\"Latestnews\", \"Latest news\", tweet)\n",
    "    tweet = re.sub(r\"KindleCountdown\", \"Kindle Countdown\", tweet)\n",
    "    tweet = re.sub(r\"NoMoreHandouts\", \"No More Handouts\", tweet)\n",
    "    tweet = re.sub(r\"datingtips\", \"dating tips\", tweet)\n",
    "    tweet = re.sub(r\"charlesadler\", \"Charles Adler\", tweet)\n",
    "    tweet = re.sub(r\"twia\", \"Texas Windstorm Insurance Association\", tweet)\n",
    "    tweet = re.sub(r\"txlege\", \"Texas Legislature\", tweet)\n",
    "    tweet = re.sub(r\"WindstormInsurer\", \"Windstorm Insurer\", tweet)\n",
    "    tweet = re.sub(r\"Newss\", \"News\", tweet)\n",
    "    tweet = re.sub(r\"hempoil\", \"hemp oil\", tweet)\n",
    "    tweet = re.sub(r\"CommoditiesAre\", \"Commodities are\", tweet)\n",
    "    tweet = re.sub(r\"tubestrike\", \"tube strike\", tweet)\n",
    "    tweet = re.sub(r\"JoeNBC\", \"Joe Scarborough\", tweet)\n",
    "    tweet = re.sub(r\"LiteraryCakes\", \"Literary Cakes\", tweet)\n",
    "    tweet = re.sub(r\"TI5\", \"The International 5\", tweet)\n",
    "    tweet = re.sub(r\"thehill\", \"the hill\", tweet)\n",
    "    tweet = re.sub(r\"3others\", \"3 others\", tweet)\n",
    "    tweet = re.sub(r\"stighefootball\", \"Sam Tighe\", tweet)\n",
    "    tweet = re.sub(r\"whatstheimportantvideo\", \"what is the important video\", tweet)\n",
    "    tweet = re.sub(r\"ClaudioMeloni\", \"Claudio Meloni\", tweet)\n",
    "    tweet = re.sub(r\"DukeSkywalker\", \"Duke Skywalker\", tweet)\n",
    "    tweet = re.sub(r\"carsonmwr\", \"Fort Carson\", tweet)\n",
    "    tweet = re.sub(r\"offdishduty\", \"off dish duty\", tweet)\n",
    "    tweet = re.sub(r\"andword\", \"and word\", tweet)\n",
    "    tweet = re.sub(r\"rhodeisland\", \"Rhode Island\", tweet)\n",
    "    tweet = re.sub(r\"easternoregon\", \"Eastern Oregon\", tweet)\n",
    "    tweet = re.sub(r\"WAwildfire\", \"Washington Wildfire\", tweet)\n",
    "    tweet = re.sub(r\"fingerrockfire\", \"Finger Rock Fire\", tweet)\n",
    "    tweet = re.sub(r\"57am\", \"57 am\", tweet)\n",
    "    tweet = re.sub(r\"fingerrockfire\", \"Finger Rock Fire\", tweet)\n",
    "    tweet = re.sub(r\"JacobHoggard\", \"Jacob Hoggard\", tweet)\n",
    "    tweet = re.sub(r\"newnewnew\", \"new new new\", tweet)\n",
    "    tweet = re.sub(r\"under50\", \"under 50\", tweet)\n",
    "    tweet = re.sub(r\"getitbeforeitsgone\", \"get it before it is gone\", tweet)\n",
    "    tweet = re.sub(r\"freshoutofthebox\", \"fresh out of the box\", tweet)\n",
    "    tweet = re.sub(r\"amwriting\", \"am writing\", tweet)\n",
    "    tweet = re.sub(r\"Bokoharm\", \"Boko Haram\", tweet)\n",
    "    tweet = re.sub(r\"Nowlike\", \"Now like\", tweet)\n",
    "    tweet = re.sub(r\"seasonfrom\", \"season from\", tweet)\n",
    "    tweet = re.sub(r\"epicente\", \"epicenter\", tweet)\n",
    "    tweet = re.sub(r\"epicenterr\", \"epicenter\", tweet)\n",
    "    tweet = re.sub(r\"sicklife\", \"sick life\", tweet)\n",
    "    tweet = re.sub(r\"yycweather\", \"Calgary Weather\", tweet)\n",
    "    tweet = re.sub(r\"calgarysun\", \"Calgary Sun\", tweet)\n",
    "    tweet = re.sub(r\"approachng\", \"approaching\", tweet)\n",
    "    tweet = re.sub(r\"evng\", \"evening\", tweet)\n",
    "    tweet = re.sub(r\"Sumthng\", \"something\", tweet)\n",
    "    tweet = re.sub(r\"EllenPompeo\", \"Ellen Pompeo\", tweet)\n",
    "    tweet = re.sub(r\"shondarhimes\", \"Shonda Rhimes\", tweet)\n",
    "    tweet = re.sub(r\"ABCNetwork\", \"ABC Network\", tweet)\n",
    "    tweet = re.sub(r\"SushmaSwaraj\", \"Sushma Swaraj\", tweet)\n",
    "    tweet = re.sub(r\"pray4japan\", \"Pray for Japan\", tweet)\n",
    "    tweet = re.sub(r\"hope4japan\", \"Hope for Japan\", tweet)\n",
    "    tweet = re.sub(r\"Illusionimagess\", \"Illusion images\", tweet)\n",
    "    tweet = re.sub(r\"SummerUnderTheStars\", \"Summer Under The Stars\", tweet)\n",
    "    tweet = re.sub(r\"ShallWeDance\", \"Shall We Dance\", tweet)\n",
    "    tweet = re.sub(r\"TCMParty\", \"TCM Party\", tweet)\n",
    "    tweet = re.sub(r\"marijuananews\", \"marijuana news\", tweet)\n",
    "    tweet = re.sub(r\"onbeingwithKristaTippett\", \"on being with Krista Tippett\", tweet)\n",
    "    tweet = re.sub(r\"Beingtweets\", \"Being tweets\", tweet)\n",
    "    tweet = re.sub(r\"newauthors\", \"new authors\", tweet)\n",
    "    tweet = re.sub(r\"remedyyyy\", \"remedy\", tweet)\n",
    "    tweet = re.sub(r\"44PM\", \"44 PM\", tweet)\n",
    "    tweet = re.sub(r\"HeadlinesApp\", \"Headlines App\", tweet)\n",
    "    tweet = re.sub(r\"40PM\", \"40 PM\", tweet)\n",
    "    tweet = re.sub(r\"myswc\", \"Severe Weather Center\", tweet)\n",
    "    tweet = re.sub(r\"ithats\", \"that is\", tweet)\n",
    "    tweet = re.sub(r\"icouldsitinthismomentforever\", \"I could sit in this moment forever\", tweet)\n",
    "    tweet = re.sub(r\"FatLoss\", \"Fat Loss\", tweet)\n",
    "    tweet = re.sub(r\"02PM\", \"02 PM\", tweet)\n",
    "    tweet = re.sub(r\"MetroFmTalk\", \"Metro Fm Talk\", tweet)\n",
    "    tweet = re.sub(r\"Bstrd\", \"bastard\", tweet)\n",
    "    tweet = re.sub(r\"bldy\", \"bloody\", tweet)\n",
    "    tweet = re.sub(r\"MetrofmTalk\", \"Metro Fm Talk\", tweet)\n",
    "    tweet = re.sub(r\"terrorismturn\", \"terrorism turn\", tweet)\n",
    "    tweet = re.sub(r\"BBCNewsAsia\", \"BBC News Asia\", tweet)\n",
    "    tweet = re.sub(r\"BehindTheScenes\", \"Behind The Scenes\", tweet)\n",
    "    tweet = re.sub(r\"GeorgeTakei\", \"George Takei\", tweet)\n",
    "    tweet = re.sub(r\"WomensWeeklyMag\", \"Womens Weekly Magazine\", tweet)\n",
    "    tweet = re.sub(r\"SurvivorsGuidetoEarth\", \"Survivors Guide to Earth\", tweet)\n",
    "    tweet = re.sub(r\"incubusband\", \"incubus band\", tweet)\n",
    "    tweet = re.sub(r\"Babypicturethis\", \"Baby picture this\", tweet)\n",
    "    tweet = re.sub(r\"BombEffects\", \"Bomb Effects\", tweet)\n",
    "    tweet = re.sub(r\"win10\", \"Windows 10\", tweet)\n",
    "    tweet = re.sub(r\"idkidk\", \"I do not know I do not know\", tweet)\n",
    "    tweet = re.sub(r\"TheWalkingDead\", \"The Walking Dead\", tweet)\n",
    "    tweet = re.sub(r\"amyschumer\", \"Amy Schumer\", tweet)\n",
    "    tweet = re.sub(r\"crewlist\", \"crew list\", tweet)\n",
    "    tweet = re.sub(r\"Erdogans\", \"Erdogan\", tweet)\n",
    "    tweet = re.sub(r\"BBCLive\", \"BBC Live\", tweet)\n",
    "    tweet = re.sub(r\"TonyAbbottMHR\", \"Tony Abbott\", tweet)\n",
    "    tweet = re.sub(r\"paulmyerscough\", \"Paul Myerscough\", tweet)\n",
    "    tweet = re.sub(r\"georgegallagher\", \"George Gallagher\", tweet)\n",
    "    tweet = re.sub(r\"JimmieJohnson\", \"Jimmie Johnson\", tweet)\n",
    "    tweet = re.sub(r\"pctool\", \"pc tool\", tweet)\n",
    "    tweet = re.sub(r\"DoingHashtagsRight\", \"Doing Hashtags Right\", tweet)\n",
    "    tweet = re.sub(r\"ThrowbackThursday\", \"Throwback Thursday\", tweet)\n",
    "    tweet = re.sub(r\"SnowBackSunday\", \"Snowback Sunday\", tweet)\n",
    "    tweet = re.sub(r\"LakeEffect\", \"Lake Effect\", tweet)\n",
    "    tweet = re.sub(r\"RTphotographyUK\", \"Richard Thomas Photography UK\", tweet)\n",
    "    tweet = re.sub(r\"BigBang_CBS\", \"Big Bang CBS\", tweet)\n",
    "    tweet = re.sub(r\"writerslife\", \"writers life\", tweet)\n",
    "    tweet = re.sub(r\"NaturalBirth\", \"Natural Birth\", tweet)\n",
    "    tweet = re.sub(r\"UnusualWords\", \"Unusual Words\", tweet)\n",
    "    tweet = re.sub(r\"wizkhalifa\", \"Wiz Khalifa\", tweet)\n",
    "    tweet = re.sub(r\"acreativedc\", \"a creative DC\", tweet)\n",
    "    tweet = re.sub(r\"vscodc\", \"vsco DC\", tweet)\n",
    "    tweet = re.sub(r\"VSCOcam\", \"vsco camera\", tweet)\n",
    "    tweet = re.sub(r\"TheBEACHDC\", \"The beach DC\", tweet)\n",
    "    tweet = re.sub(r\"buildingmuseum\", \"building museum\", tweet)\n",
    "    tweet = re.sub(r\"WorldOil\", \"World Oil\", tweet)\n",
    "    tweet = re.sub(r\"redwedding\", \"red wedding\", tweet)\n",
    "    tweet = re.sub(r\"AmazingRaceCanada\", \"Amazing Race Canada\", tweet)\n",
    "    tweet = re.sub(r\"WakeUpAmerica\", \"Wake Up America\", tweet)\n",
    "    tweet = re.sub(r\"\\\\Allahuakbar\\\\\", \"Allahu Akbar\", tweet)\n",
    "    tweet = re.sub(r\"bleased\", \"blessed\", tweet)\n",
    "    tweet = re.sub(r\"nigeriantribune\", \"Nigerian Tribune\", tweet)\n",
    "    tweet = re.sub(r\"HIDEO_KOJIMA_EN\", \"Hideo Kojima\", tweet)\n",
    "    tweet = re.sub(r\"FusionFestival\", \"Fusion Festival\", tweet)\n",
    "    tweet = re.sub(r\"50Mixed\", \"50 Mixed\", tweet)\n",
    "    tweet = re.sub(r\"NoAgenda\", \"No Agenda\", tweet)\n",
    "    tweet = re.sub(r\"WhiteGenocide\", \"White Genocide\", tweet)\n",
    "    tweet = re.sub(r\"dirtylying\", \"dirty lying\", tweet)\n",
    "    tweet = re.sub(r\"SyrianRefugees\", \"Syrian Refugees\", tweet)\n",
    "    tweet = re.sub(r\"changetheworld\", \"change the world\", tweet)\n",
    "    tweet = re.sub(r\"Ebolacase\", \"Ebola case\", tweet)\n",
    "    tweet = re.sub(r\"mcgtech\", \"mcg technologies\", tweet)\n",
    "    tweet = re.sub(r\"withweapons\", \"with weapons\", tweet)\n",
    "    tweet = re.sub(r\"advancedwarfare\", \"advanced warfare\", tweet)\n",
    "    tweet = re.sub(r\"letsFootball\", \"let us Football\", tweet)\n",
    "    tweet = re.sub(r\"LateNiteMix\", \"late night mix\", tweet)\n",
    "    tweet = re.sub(r\"PhilCollinsFeed\", \"Phil Collins\", tweet)\n",
    "    tweet = re.sub(r\"RudyHavenstein\", \"Rudy Havenstein\", tweet)\n",
    "    tweet = re.sub(r\"22PM\", \"22 PM\", tweet)\n",
    "    tweet = re.sub(r\"54am\", \"54 AM\", tweet)\n",
    "    tweet = re.sub(r\"38am\", \"38 AM\", tweet)\n",
    "    tweet = re.sub(r\"OldFolkExplainStuff\", \"Old Folk Explain Stuff\", tweet)\n",
    "    tweet = re.sub(r\"BlacklivesMatter\", \"Black Lives Matter\", tweet)\n",
    "    tweet = re.sub(r\"InsaneLimits\", \"Insane Limits\", tweet)\n",
    "    tweet = re.sub(r\"youcantsitwithus\", \"you cannot sit with us\", tweet)\n",
    "    tweet = re.sub(r\"2k15\", \"2015\", tweet)\n",
    "    tweet = re.sub(r\"TheIran\", \"Iran\", tweet)\n",
    "    tweet = re.sub(r\"JimmyFallon\", \"Jimmy Fallon\", tweet)\n",
    "    tweet = re.sub(r\"AlbertBrooks\", \"Albert Brooks\", tweet)\n",
    "    tweet = re.sub(r\"defense_news\", \"defense news\", tweet)\n",
    "    tweet = re.sub(r\"nuclearrcSA\", \"Nuclear Risk Control Self Assessment\", tweet)\n",
    "    tweet = re.sub(r\"Auspol\", \"Australia Politics\", tweet)\n",
    "    tweet = re.sub(r\"NuclearPower\", \"Nuclear Power\", tweet)\n",
    "    tweet = re.sub(r\"WhiteTerrorism\", \"White Terrorism\", tweet)\n",
    "    tweet = re.sub(r\"truthfrequencyradio\", \"Truth Frequency Radio\", tweet)\n",
    "    tweet = re.sub(r\"ErasureIsNotEquality\", \"Erasure is not equality\", tweet)\n",
    "    tweet = re.sub(r\"ProBonoNews\", \"Pro Bono News\", tweet)\n",
    "    tweet = re.sub(r\"JakartaPost\", \"Jakarta Post\", tweet)\n",
    "    tweet = re.sub(r\"toopainful\", \"too painful\", tweet)\n",
    "    tweet = re.sub(r\"melindahaunton\", \"Melinda Haunton\", tweet)\n",
    "    tweet = re.sub(r\"NoNukes\", \"No Nukes\", tweet)\n",
    "    tweet = re.sub(r\"curryspcworld\", \"Currys PC World\", tweet)\n",
    "    tweet = re.sub(r\"ineedcake\", \"I need cake\", tweet)\n",
    "    tweet = re.sub(r\"blackforestgateau\", \"black forest gateau\", tweet)\n",
    "    tweet = re.sub(r\"BBCOne\", \"BBC One\", tweet)\n",
    "    tweet = re.sub(r\"AlexxPage\", \"Alex Page\", tweet)\n",
    "    tweet = re.sub(r\"jonathanserrie\", \"Jonathan Serrie\", tweet)\n",
    "    tweet = re.sub(r\"SocialJerkBlog\", \"Social Jerk Blog\", tweet)\n",
    "    tweet = re.sub(r\"ChelseaVPeretti\", \"Chelsea Peretti\", tweet)\n",
    "    tweet = re.sub(r\"irongiant\", \"iron giant\", tweet)\n",
    "    tweet = re.sub(r\"RonFunches\", \"Ron Funches\", tweet)\n",
    "    tweet = re.sub(r\"TimCook\", \"Tim Cook\", tweet)\n",
    "    tweet = re.sub(r\"sebastianstanisaliveandwell\", \"Sebastian Stan is alive and well\", tweet)\n",
    "    tweet = re.sub(r\"Madsummer\", \"Mad summer\", tweet)\n",
    "    tweet = re.sub(r\"NowYouKnow\", \"Now you know\", tweet)\n",
    "    tweet = re.sub(r\"concertphotography\", \"concert photography\", tweet)\n",
    "    tweet = re.sub(r\"TomLandry\", \"Tom Landry\", tweet)\n",
    "    tweet = re.sub(r\"showgirldayoff\", \"show girl day off\", tweet)\n",
    "    tweet = re.sub(r\"Yougslavia\", \"Yugoslavia\", tweet)\n",
    "    tweet = re.sub(r\"QuantumDataInformatics\", \"Quantum Data Informatics\", tweet)\n",
    "    tweet = re.sub(r\"FromTheDesk\", \"From The Desk\", tweet)\n",
    "    tweet = re.sub(r\"TheaterTrial\", \"Theater Trial\", tweet)\n",
    "    tweet = re.sub(r\"CatoInstitute\", \"Cato Institute\", tweet)\n",
    "    tweet = re.sub(r\"EmekaGift\", \"Emeka Gift\", tweet)\n",
    "    tweet = re.sub(r\"LetsBe_Rational\", \"Let us be rational\", tweet)\n",
    "    tweet = re.sub(r\"Cynicalreality\", \"Cynical reality\", tweet)\n",
    "    tweet = re.sub(r\"FredOlsenCruise\", \"Fred Olsen Cruise\", tweet)\n",
    "    tweet = re.sub(r\"NotSorry\", \"not sorry\", tweet)\n",
    "    tweet = re.sub(r\"UseYourWords\", \"use your words\", tweet)\n",
    "    tweet = re.sub(r\"WordoftheDay\", \"word of the day\", tweet)\n",
    "    tweet = re.sub(r\"Dictionarycom\", \"Dictionary.com\", tweet)\n",
    "    tweet = re.sub(r\"TheBrooklynLife\", \"The Brooklyn Life\", tweet)\n",
    "    tweet = re.sub(r\"jokethey\", \"joke they\", tweet)\n",
    "    tweet = re.sub(r\"nflweek1picks\", \"NFL week 1 picks\", tweet)\n",
    "    tweet = re.sub(r\"uiseful\", \"useful\", tweet)\n",
    "    tweet = re.sub(r\"JusticeDotOrg\", \"The American Association for Justice\", tweet)\n",
    "    tweet = re.sub(r\"autoaccidents\", \"auto accidents\", tweet)\n",
    "    tweet = re.sub(r\"SteveGursten\", \"Steve Gursten\", tweet)\n",
    "    tweet = re.sub(r\"MichiganAutoLaw\", \"Michigan Auto Law\", tweet)\n",
    "    tweet = re.sub(r\"birdgang\", \"bird gang\", tweet)\n",
    "    tweet = re.sub(r\"nflnetwork\", \"NFL Network\", tweet)\n",
    "    tweet = re.sub(r\"NYDNSports\", \"NY Daily News Sports\", tweet)\n",
    "    tweet = re.sub(r\"RVacchianoNYDN\", \"Ralph Vacchiano NY Daily News\", tweet)\n",
    "    tweet = re.sub(r\"EdmontonEsks\", \"Edmonton Eskimos\", tweet)\n",
    "    tweet = re.sub(r\"david_brelsford\", \"David Brelsford\", tweet)\n",
    "    tweet = re.sub(r\"TOI_India\", \"The Times of India\", tweet)\n",
    "    tweet = re.sub(r\"hegot\", \"he got\", tweet)\n",
    "    tweet = re.sub(r\"SkinsOn9\", \"Skins on 9\", tweet)\n",
    "    tweet = re.sub(r\"sothathappened\", \"so that happened\", tweet)\n",
    "    tweet = re.sub(r\"LCOutOfDoors\", \"LC Out Of Doors\", tweet)\n",
    "    tweet = re.sub(r\"NationFirst\", \"Nation First\", tweet)\n",
    "    tweet = re.sub(r\"IndiaToday\", \"India Today\", tweet)\n",
    "    tweet = re.sub(r\"HLPS\", \"helps\", tweet)\n",
    "    tweet = re.sub(r\"HOSTAGESTHROSW\", \"hostages throw\", tweet)\n",
    "    tweet = re.sub(r\"SNCTIONS\", \"sanctions\", tweet)\n",
    "    tweet = re.sub(r\"BidTime\", \"Bid Time\", tweet)\n",
    "    tweet = re.sub(r\"crunchysensible\", \"crunchy sensible\", tweet)\n",
    "    tweet = re.sub(r\"RandomActsOfRomance\", \"Random acts of romance\", tweet)\n",
    "    tweet = re.sub(r\"MomentsAtHill\", \"Moments at hill\", tweet)\n",
    "    tweet = re.sub(r\"eatshit\", \"eat shit\", tweet)\n",
    "    tweet = re.sub(r\"liveleakfun\", \"live leak fun\", tweet)\n",
    "    tweet = re.sub(r\"SahelNews\", \"Sahel News\", tweet)\n",
    "    tweet = re.sub(r\"abc7newsbayarea\", \"ABC 7 News Bay Area\", tweet)\n",
    "    tweet = re.sub(r\"facilitiesmanagement\", \"facilities management\", tweet)\n",
    "    tweet = re.sub(r\"facilitydude\", \"facility dude\", tweet)\n",
    "    tweet = re.sub(r\"CampLogistics\", \"Camp logistics\", tweet)\n",
    "    tweet = re.sub(r\"alaskapublic\", \"Alaska public\", tweet)\n",
    "    tweet = re.sub(r\"MarketResearch\", \"Market Research\", tweet)\n",
    "    tweet = re.sub(r\"AccuracyEsports\", \"Accuracy Esports\", tweet)\n",
    "    tweet = re.sub(r\"TheBodyShopAust\", \"The Body Shop Australia\", tweet)\n",
    "    tweet = re.sub(r\"yychail\", \"Calgary hail\", tweet)\n",
    "    tweet = re.sub(r\"yyctraffic\", \"Calgary traffic\", tweet)\n",
    "    tweet = re.sub(r\"eliotschool\", \"eliot school\", tweet)\n",
    "    tweet = re.sub(r\"TheBrokenCity\", \"The Broken City\", tweet)\n",
    "    tweet = re.sub(r\"OldsFireDept\", \"Olds Fire Department\", tweet)\n",
    "    tweet = re.sub(r\"RiverComplex\", \"River Complex\", tweet)\n",
    "    tweet = re.sub(r\"fieldworksmells\", \"field work smells\", tweet)\n",
    "    tweet = re.sub(r\"IranElection\", \"Iran Election\", tweet)\n",
    "    tweet = re.sub(r\"glowng\", \"glowing\", tweet)\n",
    "    tweet = re.sub(r\"kindlng\", \"kindling\", tweet)\n",
    "    tweet = re.sub(r\"riggd\", \"rigged\", tweet)\n",
    "    tweet = re.sub(r\"slownewsday\", \"slow news day\", tweet)\n",
    "    tweet = re.sub(r\"MyanmarFlood\", \"Myanmar Flood\", tweet)\n",
    "    tweet = re.sub(r\"abc7chicago\", \"ABC 7 Chicago\", tweet)\n",
    "    tweet = re.sub(r\"copolitics\", \"Colorado Politics\", tweet)\n",
    "    tweet = re.sub(r\"AdilGhumro\", \"Adil Ghumro\", tweet)\n",
    "    tweet = re.sub(r\"netbots\", \"net bots\", tweet)\n",
    "    tweet = re.sub(r\"byebyeroad\", \"bye bye road\", tweet)\n",
    "    tweet = re.sub(r\"massiveflooding\", \"massive flooding\", tweet)\n",
    "    tweet = re.sub(r\"EndofUS\", \"End of United States\", tweet)\n",
    "    tweet = re.sub(r\"35PM\", \"35 PM\", tweet)\n",
    "    tweet = re.sub(r\"greektheatrela\", \"Greek Theatre Los Angeles\", tweet)\n",
    "    tweet = re.sub(r\"76mins\", \"76 minutes\", tweet)\n",
    "    tweet = re.sub(r\"publicsafetyfirst\", \"public safety first\", tweet)\n",
    "    tweet = re.sub(r\"livesmatter\", \"lives matter\", tweet)\n",
    "    tweet = re.sub(r\"myhometown\", \"my hometown\", tweet)\n",
    "    tweet = re.sub(r\"tankerfire\", \"tanker fire\", tweet)\n",
    "    tweet = re.sub(r\"MEMORIALDAY\", \"memorial day\", tweet)\n",
    "    tweet = re.sub(r\"MEMORIAL_DAY\", \"memorial day\", tweet)\n",
    "    tweet = re.sub(r\"instaxbooty\", \"instagram booty\", tweet)\n",
    "    tweet = re.sub(r\"Jerusalem_Post\", \"Jerusalem Post\", tweet)\n",
    "    tweet = re.sub(r\"WayneRooney_INA\", \"Wayne Rooney\", tweet)\n",
    "    tweet = re.sub(r\"VirtualReality\", \"Virtual Reality\", tweet)\n",
    "    tweet = re.sub(r\"OculusRift\", \"Oculus Rift\", tweet)\n",
    "    tweet = re.sub(r\"OwenJones84\", \"Owen Jones\", tweet)\n",
    "    tweet = re.sub(r\"jeremycorbyn\", \"Jeremy Corbyn\", tweet)\n",
    "    tweet = re.sub(r\"paulrogers002\", \"Paul Rogers\", tweet)\n",
    "    tweet = re.sub(r\"mortalkombatx\", \"Mortal Kombat X\", tweet)\n",
    "    tweet = re.sub(r\"mortalkombat\", \"Mortal Kombat\", tweet)\n",
    "    tweet = re.sub(r\"FilipeCoelho92\", \"Filipe Coelho\", tweet)\n",
    "    tweet = re.sub(r\"OnlyQuakeNews\", \"Only Quake News\", tweet)\n",
    "    tweet = re.sub(r\"kostumes\", \"costumes\", tweet)\n",
    "    tweet = re.sub(r\"YEEESSSS\", \"yes\", tweet)\n",
    "    tweet = re.sub(r\"ToshikazuKatayama\", \"Toshikazu Katayama\", tweet)\n",
    "    tweet = re.sub(r\"IntlDevelopment\", \"Intl Development\", tweet)\n",
    "    tweet = re.sub(r\"ExtremeWeather\", \"Extreme Weather\", tweet)\n",
    "    tweet = re.sub(r\"WereNotGruberVoters\", \"We are not gruber voters\", tweet)\n",
    "    tweet = re.sub(r\"NewsThousands\", \"News Thousands\", tweet)\n",
    "    tweet = re.sub(r\"EdmundAdamus\", \"Edmund Adamus\", tweet)\n",
    "    tweet = re.sub(r\"EyewitnessWV\", \"Eye witness WV\", tweet)\n",
    "    tweet = re.sub(r\"PhiladelphiaMuseu\", \"Philadelphia Museum\", tweet)\n",
    "    tweet = re.sub(r\"DublinComicCon\", \"Dublin Comic Con\", tweet)\n",
    "    tweet = re.sub(r\"NicholasBrendon\", \"Nicholas Brendon\", tweet)\n",
    "    tweet = re.sub(r\"Alltheway80s\", \"All the way 80s\", tweet)\n",
    "    tweet = re.sub(r\"FromTheField\", \"From the field\", tweet)\n",
    "    tweet = re.sub(r\"NorthIowa\", \"North Iowa\", tweet)\n",
    "    tweet = re.sub(r\"WillowFire\", \"Willow Fire\", tweet)\n",
    "    tweet = re.sub(r\"MadRiverComplex\", \"Mad River Complex\", tweet)\n",
    "    tweet = re.sub(r\"feelingmanly\", \"feeling manly\", tweet)\n",
    "    tweet = re.sub(r\"stillnotoverit\", \"still not over it\", tweet)\n",
    "    tweet = re.sub(r\"FortitudeValley\", \"Fortitude Valley\", tweet)\n",
    "    tweet = re.sub(r\"CoastpowerlineTramTr\", \"Coast powerline\", tweet)\n",
    "    tweet = re.sub(r\"ServicesGold\", \"Services Gold\", tweet)\n",
    "    tweet = re.sub(r\"NewsbrokenEmergency\", \"News broken emergency\", tweet)\n",
    "    tweet = re.sub(r\"Evaucation\", \"evacuation\", tweet)\n",
    "    tweet = re.sub(r\"leaveevacuateexitbe\", \"leave evacuate exit be\", tweet)\n",
    "    tweet = re.sub(r\"P_EOPLE\", \"PEOPLE\", tweet)\n",
    "    tweet = re.sub(r\"Tubestrike\", \"tube strike\", tweet)\n",
    "    tweet = re.sub(r\"CLASS_SICK\", \"CLASS SICK\", tweet)\n",
    "    tweet = re.sub(r\"localplumber\", \"local plumber\", tweet)\n",
    "    tweet = re.sub(r\"awesomejobsiri\", \"awesome job siri\", tweet)\n",
    "    tweet = re.sub(r\"PayForItHow\", \"Pay for it how\", tweet)\n",
    "    tweet = re.sub(r\"ThisIsAfrica\", \"This is Africa\", tweet)\n",
    "    tweet = re.sub(r\"crimeairnetwork\", \"crime air network\", tweet)\n",
    "    tweet = re.sub(r\"KimAcheson\", \"Kim Acheson\", tweet)\n",
    "    tweet = re.sub(r\"cityofcalgary\", \"City of Calgary\", tweet)\n",
    "    tweet = re.sub(r\"prosyndicate\", \"pro syndicate\", tweet)\n",
    "    tweet = re.sub(r\"660NEWS\", \"660 NEWS\", tweet)\n",
    "    tweet = re.sub(r\"BusInsMagazine\", \"Business Insurance Magazine\", tweet)\n",
    "    tweet = re.sub(r\"wfocus\", \"focus\", tweet)\n",
    "    tweet = re.sub(r\"ShastaDam\", \"Shasta Dam\", tweet)\n",
    "    tweet = re.sub(r\"go2MarkFranco\", \"Mark Franco\", tweet)\n",
    "    tweet = re.sub(r\"StephGHinojosa\", \"Steph Hinojosa\", tweet)\n",
    "    tweet = re.sub(r\"Nashgrier\", \"Nash Grier\", tweet)\n",
    "    tweet = re.sub(r\"NashNewVideo\", \"Nash new video\", tweet)\n",
    "    tweet = re.sub(r\"IWouldntGetElectedBecause\", \"I would not get elected because\", tweet)\n",
    "    tweet = re.sub(r\"SHGames\", \"Sledgehammer Games\", tweet)\n",
    "    tweet = re.sub(r\"bedhair\", \"bed hair\", tweet)\n",
    "    tweet = re.sub(r\"JoelHeyman\", \"Joel Heyman\", tweet)\n",
    "    tweet = re.sub(r\"viaYouTube\", \"via YouTube\", tweet)\n",
    "    \n",
    "    # Urls\n",
    "    tweet = re.sub(r\"https?:\\/\\/t.co\\/[A-Za-z0-9]+\", \"\", tweet)\n",
    "    \n",
    "    # Words with punctuations and special characters\n",
    "    punctuations = '@#!?+&*[]-%.:/();$=><|{}^' + \"'`\"\n",
    "    for p in punctuations:\n",
    "        tweet = tweet.replace(p, f' {p} ')\n",
    "        \n",
    "    # ... and ..\n",
    "    tweet = tweet.replace('...', ' ... ')\n",
    "    if '...' not in tweet:\n",
    "        tweet = tweet.replace('..', ' ... ')      \n",
    "        \n",
    "    # Acronyms\n",
    "    tweet = re.sub(r\"MH370\", \"Malaysia Airlines Flight 370\", tweet)\n",
    "    tweet = re.sub(r\"mÌ¼sica\", \"music\", tweet)\n",
    "    tweet = re.sub(r\"okwx\", \"Oklahoma City Weather\", tweet)\n",
    "    tweet = re.sub(r\"arwx\", \"Arkansas Weather\", tweet)    \n",
    "    tweet = re.sub(r\"gawx\", \"Georgia Weather\", tweet)  \n",
    "    tweet = re.sub(r\"scwx\", \"South Carolina Weather\", tweet)  \n",
    "    tweet = re.sub(r\"cawx\", \"California Weather\", tweet)\n",
    "    tweet = re.sub(r\"tnwx\", \"Tennessee Weather\", tweet)\n",
    "    tweet = re.sub(r\"azwx\", \"Arizona Weather\", tweet)  \n",
    "    tweet = re.sub(r\"alwx\", \"Alabama Weather\", tweet)\n",
    "    tweet = re.sub(r\"wordpressdotcom\", \"wordpress\", tweet)    \n",
    "    tweet = re.sub(r\"usNWSgov\", \"United States National Weather Service\", tweet)\n",
    "    tweet = re.sub(r\"Suruc\", \"Sanliurfa\", tweet)   \n",
    "    \n",
    "    # Grouping same words without embeddings\n",
    "    tweet = re.sub(r\"Bestnaijamade\", \"bestnaijamade\", tweet)\n",
    "    tweet = re.sub(r\"SOUDELOR\", \"Soudelor\", tweet)\n",
    "    \n",
    "    return tweet\n",
    "df.text = df.text.apply(lambda x: clean_text(x))"
   ]
  },
  {
   "cell_type": "markdown",
   "id": "49c03c87",
   "metadata": {
    "papermill": {
     "duration": 0.054736,
     "end_time": "2021-10-24T23:43:27.963817",
     "exception": false,
     "start_time": "2021-10-24T23:43:27.909081",
     "status": "completed"
    },
    "tags": []
   },
   "source": [
    "# Remove Stopwords"
   ]
  },
  {
   "cell_type": "code",
   "execution_count": 11,
   "id": "072bd41e",
   "metadata": {
    "execution": {
     "iopub.execute_input": "2021-10-24T23:43:28.081494Z",
     "iopub.status.busy": "2021-10-24T23:43:28.080862Z",
     "iopub.status.idle": "2021-10-24T23:43:28.390093Z",
     "shell.execute_reply": "2021-10-24T23:43:28.389507Z",
     "shell.execute_reply.started": "2021-10-24T23:17:27.764521Z"
    },
    "papermill": {
     "duration": 0.373478,
     "end_time": "2021-10-24T23:43:28.390241",
     "exception": false,
     "start_time": "2021-10-24T23:43:28.016763",
     "status": "completed"
    },
    "tags": []
   },
   "outputs": [],
   "source": [
    "stop_words = corpus.stopwords.words('english')\n",
    "def remove_stopwords(text):\n",
    "    return ' '.join(w for w in text.split(' ') if w not in stop_words)\n",
    "df.text = df.text.apply(remove_stopwords)"
   ]
  },
  {
   "cell_type": "code",
   "execution_count": 12,
   "id": "23d9bf41",
   "metadata": {
    "execution": {
     "iopub.execute_input": "2021-10-24T23:43:28.643739Z",
     "iopub.status.busy": "2021-10-24T23:43:28.628527Z",
     "iopub.status.idle": "2021-10-24T23:43:30.379867Z",
     "shell.execute_reply": "2021-10-24T23:43:30.379177Z",
     "shell.execute_reply.started": "2021-10-24T23:04:38.637582Z"
    },
    "papermill": {
     "duration": 1.826082,
     "end_time": "2021-10-24T23:43:30.380016",
     "exception": false,
     "start_time": "2021-10-24T23:43:28.553934",
     "status": "completed"
    },
    "tags": []
   },
   "outputs": [],
   "source": [
    "stemmer = SnowballStemmer(\"english\")\n",
    "\n",
    "def stemming_text(text):\n",
    "    return ' '.join(stemmer.stem(w) for w in text.split(' '))\n",
    "\n",
    "df.text = df.text.apply(stemming_text)"
   ]
  },
  {
   "cell_type": "code",
   "execution_count": 13,
   "id": "e815c98c",
   "metadata": {
    "execution": {
     "iopub.execute_input": "2021-10-24T23:43:30.604282Z",
     "iopub.status.busy": "2021-10-24T23:43:30.602882Z",
     "iopub.status.idle": "2021-10-24T23:43:30.606775Z",
     "shell.execute_reply": "2021-10-24T23:43:30.606187Z",
     "shell.execute_reply.started": "2021-10-24T23:04:40.157579Z"
    },
    "papermill": {
     "duration": 0.062816,
     "end_time": "2021-10-24T23:43:30.606928",
     "exception": false,
     "start_time": "2021-10-24T23:43:30.544112",
     "status": "completed"
    },
    "tags": []
   },
   "outputs": [],
   "source": [
    "# spell = SpellChecker()\n",
    "# def correct_spelling(text):    \n",
    "#     misspelled_words = spell.unknown(text.split())\n",
    "#     corrected_text = [spell.correction(w) if w in misspelled_words else w for w in text.split()] \n",
    "#     return \" \".join(corrected_text)\n",
    "# t1 = timeit.timeit()\n",
    "# # df.text = df.text.apply(correct_spelling)\n",
    "# t2 = timeit.timeit()\n",
    "# print(t2-t1)"
   ]
  },
  {
   "cell_type": "markdown",
   "id": "eaf8d1f2",
   "metadata": {
    "papermill": {
     "duration": 0.053723,
     "end_time": "2021-10-24T23:43:30.716020",
     "exception": false,
     "start_time": "2021-10-24T23:43:30.662297",
     "status": "completed"
    },
    "tags": []
   },
   "source": [
    "Spend so much time to apply Spelling Checker, I will not use it in this data."
   ]
  },
  {
   "cell_type": "code",
   "execution_count": 14,
   "id": "9b22362f",
   "metadata": {
    "execution": {
     "iopub.execute_input": "2021-10-24T23:43:31.050129Z",
     "iopub.status.busy": "2021-10-24T23:43:31.049219Z",
     "iopub.status.idle": "2021-10-24T23:43:31.054962Z",
     "shell.execute_reply": "2021-10-24T23:43:31.054321Z",
     "shell.execute_reply.started": "2021-10-24T23:04:40.166393Z"
    },
    "papermill": {
     "duration": 0.06923,
     "end_time": "2021-10-24T23:43:31.055111",
     "exception": false,
     "start_time": "2021-10-24T23:43:30.985881",
     "status": "completed"
    },
    "tags": []
   },
   "outputs": [
    {
     "data": {
      "text/plain": [
       "array([1, 0, 0, 0, 0])"
      ]
     },
     "execution_count": 14,
     "metadata": {},
     "output_type": "execute_result"
    }
   ],
   "source": [
    "# Instantiate the Vectorizer\n",
    "vect = CountVectorizer(stop_words='english', ngram_range=(1,2), min_df=0, max_df=0.9, max_features=100)\n",
    "df_dtm = vect.fit_transform(df)\n",
    "df_dtm.toarray()[0]"
   ]
  },
  {
   "cell_type": "code",
   "execution_count": 15,
   "id": "e0642f51",
   "metadata": {
    "execution": {
     "iopub.execute_input": "2021-10-24T23:43:31.291317Z",
     "iopub.status.busy": "2021-10-24T23:43:31.290236Z",
     "iopub.status.idle": "2021-10-24T23:43:31.294347Z",
     "shell.execute_reply": "2021-10-24T23:43:31.295428Z",
     "shell.execute_reply.started": "2021-10-24T23:04:40.180558Z"
    },
    "papermill": {
     "duration": 0.075947,
     "end_time": "2021-10-24T23:43:31.295631",
     "exception": false,
     "start_time": "2021-10-24T23:43:31.219684",
     "status": "completed"
    },
    "tags": []
   },
   "outputs": [
    {
     "data": {
      "text/plain": [
       "array([1., 0., 0., 0., 0.])"
      ]
     },
     "execution_count": 15,
     "metadata": {},
     "output_type": "execute_result"
    }
   ],
   "source": [
    "tfidf_vect = TfidfVectorizer(stop_words='english', ngram_range=(1,2), min_df=0, max_df=0.98, max_features=100)\n",
    "df_ifidf= tfidf_vect.fit_transform(df)\n",
    "df_ifidf.toarray()[0]"
   ]
  },
  {
   "cell_type": "markdown",
   "id": "af12d1e2",
   "metadata": {
    "papermill": {
     "duration": 0.055965,
     "end_time": "2021-10-24T23:43:31.407182",
     "exception": false,
     "start_time": "2021-10-24T23:43:31.351217",
     "status": "completed"
    },
    "tags": []
   },
   "source": [
    "# MODEL"
   ]
  },
  {
   "cell_type": "code",
   "execution_count": 16,
   "id": "481387a7",
   "metadata": {
    "execution": {
     "iopub.execute_input": "2021-10-24T23:43:31.636873Z",
     "iopub.status.busy": "2021-10-24T23:43:31.636144Z",
     "iopub.status.idle": "2021-10-24T23:43:34.187354Z",
     "shell.execute_reply": "2021-10-24T23:43:34.188125Z",
     "shell.execute_reply.started": "2021-10-24T23:17:42.673946Z"
    },
    "papermill": {
     "duration": 2.612933,
     "end_time": "2021-10-24T23:43:34.188387",
     "exception": false,
     "start_time": "2021-10-24T23:43:31.575454",
     "status": "completed"
    },
    "tags": []
   },
   "outputs": [
    {
     "name": "stderr",
     "output_type": "stream",
     "text": [
      "100%|██████████| 10876/10876 [00:02<00:00, 4280.83it/s]\n"
     ]
    }
   ],
   "source": [
    "# Create Corpus from Text DataFrame\n",
    "corpus=[]\n",
    "for tweet in tqdm(df['text']):\n",
    "    words = [word.lower() for word in word_tokenize(tweet) if (word.isalpha()==1 & (word not in stop_words))]\n",
    "    corpus.append(words)"
   ]
  },
  {
   "cell_type": "code",
   "execution_count": 17,
   "id": "f42c571f",
   "metadata": {
    "execution": {
     "iopub.execute_input": "2021-10-24T23:43:34.351045Z",
     "iopub.status.busy": "2021-10-24T23:43:34.340852Z",
     "iopub.status.idle": "2021-10-24T23:43:34.443657Z",
     "shell.execute_reply": "2021-10-24T23:43:34.443107Z",
     "shell.execute_reply.started": "2021-10-24T23:17:47.207238Z"
    },
    "papermill": {
     "duration": 0.190806,
     "end_time": "2021-10-24T23:43:34.443802",
     "exception": false,
     "start_time": "2021-10-24T23:43:34.252996",
     "status": "completed"
    },
    "tags": []
   },
   "outputs": [
    {
     "data": {
      "text/plain": [
       "16556"
      ]
     },
     "execution_count": 17,
     "metadata": {},
     "output_type": "execute_result"
    }
   ],
   "source": [
    "tokenizer = Tokenizer()\n",
    "tokenizer.fit_on_texts(corpus)\n",
    "word_index =  tokenizer.word_index\n",
    "vocal_length = len(word_index) + 1\n",
    "vocal_length"
   ]
  },
  {
   "cell_type": "code",
   "execution_count": 18,
   "id": "e04972b6",
   "metadata": {
    "execution": {
     "iopub.execute_input": "2021-10-24T23:43:34.593858Z",
     "iopub.status.busy": "2021-10-24T23:43:34.593002Z",
     "iopub.status.idle": "2021-10-24T23:43:53.512987Z",
     "shell.execute_reply": "2021-10-24T23:43:53.512245Z",
     "shell.execute_reply.started": "2021-10-24T23:18:07.210136Z"
    },
    "papermill": {
     "duration": 18.989951,
     "end_time": "2021-10-24T23:43:53.513145",
     "exception": false,
     "start_time": "2021-10-24T23:43:34.523194",
     "status": "completed"
    },
    "tags": []
   },
   "outputs": [
    {
     "data": {
      "text/plain": [
       "400000"
      ]
     },
     "execution_count": 18,
     "metadata": {},
     "output_type": "execute_result"
    }
   ],
   "source": [
    "# Create Embedding Dictionary from GloVe Data\n",
    "embedding_dict = {}\n",
    "with open('/kaggle/input/glove-global-vectors-for-word-representation/glove.6B.100d.txt', 'r') as f:\n",
    "    for line in f:\n",
    "        values = line.split()\n",
    "        word = values[0]\n",
    "        vectors = np.asarray(values[1:], 'float32')\n",
    "        embedding_dict[word] = vectors\n",
    "f.close()\n",
    "len(embedding_dict)"
   ]
  },
  {
   "cell_type": "code",
   "execution_count": 19,
   "id": "1677ae79",
   "metadata": {
    "execution": {
     "iopub.execute_input": "2021-10-24T23:43:53.650357Z",
     "iopub.status.busy": "2021-10-24T23:43:53.649260Z",
     "iopub.status.idle": "2021-10-24T23:43:53.698479Z",
     "shell.execute_reply": "2021-10-24T23:43:53.699240Z",
     "shell.execute_reply.started": "2021-10-24T23:18:48.893817Z"
    },
    "papermill": {
     "duration": 0.121365,
     "end_time": "2021-10-24T23:43:53.699497",
     "exception": false,
     "start_time": "2021-10-24T23:43:53.578132",
     "status": "completed"
    },
    "tags": []
   },
   "outputs": [
    {
     "name": "stderr",
     "output_type": "stream",
     "text": [
      "100%|██████████| 16555/16555 [00:00<00:00, 392537.27it/s]\n"
     ]
    }
   ],
   "source": [
    "# Preparing the GloVe word-embeddings matrix\n",
    "EMBEDDING_DIM = 100\n",
    "\n",
    "embedding_matrix = np.zeros((vocal_length, EMBEDDING_DIM))\n",
    "\n",
    "for word, i in tqdm(word_index.items()):\n",
    "    embedding_vector = embedding_dict.get(word)\n",
    "    if embedding_vector is not None:\n",
    "        # word not found will be all-zeros.\n",
    "        embedding_matrix[i] = embedding_vector"
   ]
  },
  {
   "cell_type": "code",
   "execution_count": 20,
   "id": "364d7629",
   "metadata": {
    "execution": {
     "iopub.execute_input": "2021-10-24T23:43:53.989319Z",
     "iopub.status.busy": "2021-10-24T23:43:53.979159Z",
     "iopub.status.idle": "2021-10-24T23:43:54.114227Z",
     "shell.execute_reply": "2021-10-24T23:43:54.113662Z",
     "shell.execute_reply.started": "2021-10-24T23:18:56.645163Z"
    },
    "papermill": {
     "duration": 0.218318,
     "end_time": "2021-10-24T23:43:54.114386",
     "exception": false,
     "start_time": "2021-10-24T23:43:53.896068",
     "status": "completed"
    },
    "tags": []
   },
   "outputs": [],
   "source": [
    "MAX_SEQUENCE_LENGTH = 40\n",
    "\n",
    "padded_sentences = pad_sequences(tokenizer.texts_to_sequences(corpus), maxlen=MAX_SEQUENCE_LENGTH, truncating='post', padding=\"post\")\n",
    "\n",
    "train = padded_sentences[:train_len]\n",
    "target = train_full['target'].values\n",
    "test = padded_sentences[train_len:]"
   ]
  },
  {
   "cell_type": "code",
   "execution_count": 21,
   "id": "ca8d1837",
   "metadata": {
    "execution": {
     "iopub.execute_input": "2021-10-24T23:43:54.385487Z",
     "iopub.status.busy": "2021-10-24T23:43:54.383142Z",
     "iopub.status.idle": "2021-10-24T23:43:54.386376Z",
     "shell.execute_reply": "2021-10-24T23:43:54.386934Z"
    },
    "papermill": {
     "duration": 0.077161,
     "end_time": "2021-10-24T23:43:54.387162",
     "exception": false,
     "start_time": "2021-10-24T23:43:54.310001",
     "status": "completed"
    },
    "tags": []
   },
   "outputs": [],
   "source": [
    "def modelRNN(embed_dim):\n",
    "    model = Sequential()\n",
    "    model.add(Embedding(vocal_length, \n",
    "                        EMBEDDING_DIM,\n",
    "                        weights=[embedding_matrix],\n",
    "                        input_length=MAX_SEQUENCE_LENGTH,\n",
    "                        trainable=False))\n",
    "    model.add(SimpleRNN(embed_dim))\n",
    "    model.add(Dense(1, activation='sigmoid'))\n",
    "\n",
    "    model.compile(optimizer='rmsprop', \n",
    "                  loss='binary_crossentropy',\n",
    "                  metrics=['acc'])\n",
    "\n",
    "    history = model.fit(train, target,\n",
    "                         epochs=10,\n",
    "                         batch_size=128,\n",
    "                         validation_split=0.2)\n",
    "    return model, history"
   ]
  },
  {
   "cell_type": "code",
   "execution_count": 22,
   "id": "e9fb9ac8",
   "metadata": {
    "execution": {
     "iopub.execute_input": "2021-10-24T23:43:54.537531Z",
     "iopub.status.busy": "2021-10-24T23:43:54.536220Z",
     "iopub.status.idle": "2021-10-24T23:43:54.540067Z",
     "shell.execute_reply": "2021-10-24T23:43:54.539499Z"
    },
    "papermill": {
     "duration": 0.087872,
     "end_time": "2021-10-24T23:43:54.540204",
     "exception": false,
     "start_time": "2021-10-24T23:43:54.452332",
     "status": "completed"
    },
    "tags": []
   },
   "outputs": [],
   "source": [
    "# mod_RNN, his_RNN = modelRNN(64)\n",
    "# plot_model(his_RNN.history)"
   ]
  },
  {
   "cell_type": "markdown",
   "id": "35eb7820",
   "metadata": {
    "papermill": {
     "duration": 0.063749,
     "end_time": "2021-10-24T23:43:54.670643",
     "exception": false,
     "start_time": "2021-10-24T23:43:54.606894",
     "status": "completed"
    },
    "tags": []
   },
   "source": [
    "In general, the Validation accuracy climbed slowly. Model is needed improvement.  "
   ]
  },
  {
   "cell_type": "markdown",
   "id": "9c889c69",
   "metadata": {
    "papermill": {
     "duration": 0.065022,
     "end_time": "2021-10-24T23:43:54.801822",
     "exception": false,
     "start_time": "2021-10-24T23:43:54.736800",
     "status": "completed"
    },
    "tags": []
   },
   "source": [
    "<img src=\"https://i.ibb.co/6wdWCPm/RNN.png\" alt=\"RNN\" border=\"0\">"
   ]
  },
  {
   "cell_type": "code",
   "execution_count": 23,
   "id": "754f53c8",
   "metadata": {
    "execution": {
     "iopub.execute_input": "2021-10-24T23:43:55.110225Z",
     "iopub.status.busy": "2021-10-24T23:43:55.109110Z",
     "iopub.status.idle": "2021-10-24T23:43:55.112776Z",
     "shell.execute_reply": "2021-10-24T23:43:55.112149Z"
    },
    "papermill": {
     "duration": 0.07787,
     "end_time": "2021-10-24T23:43:55.112922",
     "exception": false,
     "start_time": "2021-10-24T23:43:55.035052",
     "status": "completed"
    },
    "tags": []
   },
   "outputs": [],
   "source": [
    "def modelLSTM(embed_dim):\n",
    "    model = Sequential()\n",
    "    model.add(Embedding(vocal_length, \n",
    "                        EMBEDDING_DIM, \n",
    "                        weights=[embedding_matrix], \n",
    "                        input_length=MAX_SEQUENCE_LENGTH, \n",
    "                        trainable=False))\n",
    "    model.add(Bidirectional(LSTM(embed_dim,\n",
    "                                dropout=0.2,\n",
    "                                recurrent_dropout=0.2)))\n",
    "    model.add(Dense(1, activation='sigmoid'))\n",
    "\n",
    "    model.compile(optimizer='rmsprop', \n",
    "                  loss='binary_crossentropy',\n",
    "                  metrics=['acc'])\n",
    "\n",
    "    history = model.fit(train, target,\n",
    "                         epochs=8,\n",
    "                         batch_size=128,\n",
    "                         validation_split=0.2)\n",
    "    return model, history"
   ]
  },
  {
   "cell_type": "code",
   "execution_count": 24,
   "id": "44151a35",
   "metadata": {
    "execution": {
     "iopub.execute_input": "2021-10-24T23:43:55.249021Z",
     "iopub.status.busy": "2021-10-24T23:43:55.248050Z",
     "iopub.status.idle": "2021-10-24T23:43:55.251940Z",
     "shell.execute_reply": "2021-10-24T23:43:55.251258Z"
    },
    "papermill": {
     "duration": 0.073306,
     "end_time": "2021-10-24T23:43:55.252087",
     "exception": false,
     "start_time": "2021-10-24T23:43:55.178781",
     "status": "completed"
    },
    "tags": []
   },
   "outputs": [],
   "source": [
    "# mod_LSTM, his_LSTM = modelLSTM(64)\n",
    "# plot_model(his_LSTM.history)"
   ]
  },
  {
   "cell_type": "markdown",
   "id": "1398d716",
   "metadata": {
    "papermill": {
     "duration": 0.065686,
     "end_time": "2021-10-24T23:43:55.385583",
     "exception": false,
     "start_time": "2021-10-24T23:43:55.319897",
     "status": "completed"
    },
    "tags": []
   },
   "source": [
    "<img src=\"https://i.ibb.co/Cv80Nbj/LSTM.png\" alt=\"LSTM\" border=\"0\">"
   ]
  },
  {
   "cell_type": "code",
   "execution_count": 25,
   "id": "086abfd1",
   "metadata": {
    "execution": {
     "iopub.execute_input": "2021-10-24T23:43:55.868982Z",
     "iopub.status.busy": "2021-10-24T23:43:55.867314Z",
     "iopub.status.idle": "2021-10-24T23:43:55.872681Z",
     "shell.execute_reply": "2021-10-24T23:43:55.874533Z",
     "shell.execute_reply.started": "2021-10-24T23:19:13.813591Z"
    },
    "papermill": {
     "duration": 0.158389,
     "end_time": "2021-10-24T23:43:55.874787",
     "exception": false,
     "start_time": "2021-10-24T23:43:55.716398",
     "status": "completed"
    },
    "tags": []
   },
   "outputs": [],
   "source": [
    "def modelGRU(embed_dim):\n",
    "    model = Sequential()\n",
    "    model.add(Embedding(vocal_length,\n",
    "                       EMBEDDING_DIM,\n",
    "                       weights=[embedding_matrix],\n",
    "                       input_length=MAX_SEQUENCE_LENGTH,\n",
    "                       trainable=False))\n",
    "    model.add(Bidirectional(GRU(embed_dim,\n",
    "                               dropout=0.3,\n",
    "                               recurrent_dropout=0.4)))\n",
    "    model.add(Dense(1, activation='sigmoid'))\n",
    "\n",
    "    model.compile(optimizer='rmsprop', \n",
    "                  loss='binary_crossentropy',\n",
    "                  metrics=['acc'])\n",
    "\n",
    "    history = model.fit(train, target,\n",
    "                         epochs=18,\n",
    "                         batch_size=128,\n",
    "                         validation_split=0.2)\n",
    "    return model, history"
   ]
  },
  {
   "cell_type": "code",
   "execution_count": 26,
   "id": "698b1e56",
   "metadata": {
    "execution": {
     "iopub.execute_input": "2021-10-24T23:43:56.140430Z",
     "iopub.status.busy": "2021-10-24T23:43:56.130878Z",
     "iopub.status.idle": "2021-10-24T23:50:22.556728Z",
     "shell.execute_reply": "2021-10-24T23:50:22.556147Z",
     "shell.execute_reply.started": "2021-10-24T23:19:21.710523Z"
    },
    "papermill": {
     "duration": 386.554738,
     "end_time": "2021-10-24T23:50:22.556883",
     "exception": false,
     "start_time": "2021-10-24T23:43:56.002145",
     "status": "completed"
    },
    "tags": []
   },
   "outputs": [
    {
     "name": "stdout",
     "output_type": "stream",
     "text": [
      "Epoch 1/18\n",
      "48/48 [==============================] - 28s 458ms/step - loss: 0.6245 - acc: 0.6546 - val_loss: 0.4781 - val_acc: 0.7932\n",
      "Epoch 2/18\n",
      "48/48 [==============================] - 20s 424ms/step - loss: 0.5160 - acc: 0.7516 - val_loss: 0.4677 - val_acc: 0.7945\n",
      "Epoch 3/18\n",
      "48/48 [==============================] - 21s 434ms/step - loss: 0.5018 - acc: 0.7585 - val_loss: 0.4770 - val_acc: 0.7853\n",
      "Epoch 4/18\n",
      "48/48 [==============================] - 21s 442ms/step - loss: 0.5146 - acc: 0.7591 - val_loss: 0.4645 - val_acc: 0.8004\n",
      "Epoch 5/18\n",
      "48/48 [==============================] - 20s 425ms/step - loss: 0.4883 - acc: 0.7706 - val_loss: 0.4648 - val_acc: 0.7945\n",
      "Epoch 6/18\n",
      "48/48 [==============================] - 21s 439ms/step - loss: 0.4768 - acc: 0.7760 - val_loss: 0.4647 - val_acc: 0.7932\n",
      "Epoch 7/18\n",
      "48/48 [==============================] - 22s 452ms/step - loss: 0.4718 - acc: 0.7835 - val_loss: 0.4644 - val_acc: 0.8043\n",
      "Epoch 8/18\n",
      "48/48 [==============================] - 20s 417ms/step - loss: 0.4790 - acc: 0.7783 - val_loss: 0.5002 - val_acc: 0.7879\n",
      "Epoch 9/18\n",
      "48/48 [==============================] - 21s 432ms/step - loss: 0.4778 - acc: 0.7810 - val_loss: 0.4706 - val_acc: 0.8011\n",
      "Epoch 10/18\n",
      "48/48 [==============================] - 21s 423ms/step - loss: 0.4657 - acc: 0.7844 - val_loss: 0.4648 - val_acc: 0.7971\n",
      "Epoch 11/18\n",
      "48/48 [==============================] - 21s 439ms/step - loss: 0.4610 - acc: 0.7949 - val_loss: 0.4672 - val_acc: 0.7984\n",
      "Epoch 12/18\n",
      "48/48 [==============================] - 21s 446ms/step - loss: 0.4671 - acc: 0.7834 - val_loss: 0.4692 - val_acc: 0.7984\n",
      "Epoch 13/18\n",
      "48/48 [==============================] - 21s 434ms/step - loss: 0.4566 - acc: 0.7912 - val_loss: 0.4721 - val_acc: 0.7991\n",
      "Epoch 14/18\n",
      "48/48 [==============================] - 21s 433ms/step - loss: 0.4597 - acc: 0.7875 - val_loss: 0.4692 - val_acc: 0.7978\n",
      "Epoch 15/18\n",
      "48/48 [==============================] - 22s 449ms/step - loss: 0.4517 - acc: 0.7907 - val_loss: 0.4663 - val_acc: 0.8024\n",
      "Epoch 16/18\n",
      "48/48 [==============================] - 20s 426ms/step - loss: 0.4322 - acc: 0.8053 - val_loss: 0.4789 - val_acc: 0.7873\n",
      "Epoch 17/18\n",
      "48/48 [==============================] - 21s 438ms/step - loss: 0.4393 - acc: 0.8023 - val_loss: 0.4791 - val_acc: 0.7873\n",
      "Epoch 18/18\n",
      "48/48 [==============================] - 21s 442ms/step - loss: 0.4292 - acc: 0.8091 - val_loss: 0.5087 - val_acc: 0.7735\n"
     ]
    },
    {
     "data": {
      "image/png": "[encoded data removed]",
      "text/plain": [
       "<Figure size 432x288 with 1 Axes>"
      ]
     },
     "metadata": {
      "needs_background": "light"
     },
     "output_type": "display_data"
    },
    {
     "data": {
      "image/png": "[encoded data removed]",
      "text/plain": [
       "<Figure size 432x288 with 1 Axes>"
      ]
     },
     "metadata": {
      "needs_background": "light"
     },
     "output_type": "display_data"
    }
   ],
   "source": [
    "model_GRU, history_GRU = modelGRU(64)\n",
    "plot_model(history_GRU.history)"
   ]
  },
  {
   "cell_type": "markdown",
   "id": "791f04db",
   "metadata": {
    "papermill": {
     "duration": 0.367647,
     "end_time": "2021-10-24T23:50:23.297910",
     "exception": false,
     "start_time": "2021-10-24T23:50:22.930263",
     "status": "completed"
    },
    "tags": []
   },
   "source": [
    "Result: Model is better with increasing dropout hyperparameter. I am make confused with maximum dropout that can be chosen. \n",
    "In practical, dropout = 0.3 is best."
   ]
  },
  {
   "cell_type": "code",
   "execution_count": 27,
   "id": "3e7a032e",
   "metadata": {
    "execution": {
     "iopub.execute_input": "2021-10-24T23:50:24.796263Z",
     "iopub.status.busy": "2021-10-24T23:50:24.793986Z",
     "iopub.status.idle": "2021-10-24T23:50:24.797150Z",
     "shell.execute_reply": "2021-10-24T23:50:24.797680Z"
    },
    "papermill": {
     "duration": 0.396824,
     "end_time": "2021-10-24T23:50:24.797847",
     "exception": false,
     "start_time": "2021-10-24T23:50:24.401023",
     "status": "completed"
    },
    "tags": []
   },
   "outputs": [],
   "source": [
    "def modelLSTM_dropout(embed_dim):\n",
    "    model = Sequential()\n",
    "    model.add(Embedding(vocal_length,\n",
    "                       EMBEDDING_DIM,\n",
    "                       weights=[embedding_matrix],\n",
    "                       input_length=MAX_SEQUENCE_LENGTH,\n",
    "                       trainable=False))\n",
    "    model.add(SpatialDropout1D(0.2))\n",
    "    model.add(Bidirectional(LSTM(embed_dim,\n",
    "                               dropout=0.2,\n",
    "                               recurrent_dropout=0.2)))\n",
    "    model.add(Dense(1, activation='sigmoid'))\n",
    "\n",
    "    model.compile(optimizer='rmsprop', \n",
    "                  loss='binary_crossentropy',\n",
    "                  metrics=['acc'])\n",
    "\n",
    "    history = model.fit(train, target,\n",
    "                         epochs=10,\n",
    "                         batch_size=128,\n",
    "                         validation_split=0.2)\n",
    "    return model, history"
   ]
  },
  {
   "cell_type": "code",
   "execution_count": 28,
   "id": "ae1e9bc9",
   "metadata": {
    "execution": {
     "iopub.execute_input": "2021-10-24T23:50:25.541925Z",
     "iopub.status.busy": "2021-10-24T23:50:25.540799Z",
     "iopub.status.idle": "2021-10-24T23:50:25.544278Z",
     "shell.execute_reply": "2021-10-24T23:50:25.543766Z"
    },
    "papermill": {
     "duration": 0.376364,
     "end_time": "2021-10-24T23:50:25.544426",
     "exception": false,
     "start_time": "2021-10-24T23:50:25.168062",
     "status": "completed"
    },
    "tags": []
   },
   "outputs": [],
   "source": [
    "# model_LSTM_dropout, history_LSTM_dropout = modelLSTM_dropout(64)\n",
    "# plot_model(history_LSTM_dropout.history)"
   ]
  },
  {
   "cell_type": "markdown",
   "id": "131a5354",
   "metadata": {
    "papermill": {
     "duration": 0.364839,
     "end_time": "2021-10-24T23:50:26.275638",
     "exception": false,
     "start_time": "2021-10-24T23:50:25.910799",
     "status": "completed"
    },
    "tags": []
   },
   "source": [
    "<img src=\"https://i.ibb.co/0rCjB7T/LSTMDropout.png\" alt=\"LSTMDropout\" border=\"0\">"
   ]
  },
  {
   "cell_type": "code",
   "execution_count": 29,
   "id": "0dcc3c7a",
   "metadata": {
    "execution": {
     "iopub.execute_input": "2021-10-24T23:50:28.500149Z",
     "iopub.status.busy": "2021-10-24T23:50:28.499182Z",
     "iopub.status.idle": "2021-10-24T23:50:28.502779Z",
     "shell.execute_reply": "2021-10-24T23:50:28.502243Z"
    },
    "papermill": {
     "duration": 0.389161,
     "end_time": "2021-10-24T23:50:28.502911",
     "exception": false,
     "start_time": "2021-10-24T23:50:28.113750",
     "status": "completed"
    },
    "tags": []
   },
   "outputs": [],
   "source": [
    "def model_doubleLSTM(embed_dim):\n",
    "    model = Sequential()\n",
    "    model.add(Embedding(vocal_length,\n",
    "                       EMBEDDING_DIM,\n",
    "                       weights=[embedding_matrix],\n",
    "                       input_length=MAX_SEQUENCE_LENGTH,\n",
    "                       trainable=False))\n",
    "    \n",
    "    model.add(Bidirectional(GRU(embed_dim,\n",
    "                            dropout=0.2,\n",
    "                            recurrent_dropout=0.2,\n",
    "                               return_sequences=True)))\n",
    "    model.add(Bidirectional(GRU(embed_dim,\n",
    "                           dropout=0.2,\n",
    "                           recurrent_dropout=0.2)))\n",
    "    model.add(Dense(1, activation='sigmoid'))\n",
    "\n",
    "    model.compile(optimizer='rmsprop', \n",
    "                  loss='binary_crossentropy',\n",
    "                  metrics=['acc'])\n",
    "\n",
    "    history = model.fit(train, target,\n",
    "                         epochs=10,\n",
    "                         batch_size=128,\n",
    "                         validation_split=0.2)\n",
    "    return model, history"
   ]
  },
  {
   "cell_type": "code",
   "execution_count": 30,
   "id": "bc9ad2c5",
   "metadata": {
    "execution": {
     "iopub.execute_input": "2021-10-24T23:50:29.243161Z",
     "iopub.status.busy": "2021-10-24T23:50:29.242103Z",
     "iopub.status.idle": "2021-10-24T23:50:29.245290Z",
     "shell.execute_reply": "2021-10-24T23:50:29.245884Z"
    },
    "papermill": {
     "duration": 0.375689,
     "end_time": "2021-10-24T23:50:29.246034",
     "exception": false,
     "start_time": "2021-10-24T23:50:28.870345",
     "status": "completed"
    },
    "tags": []
   },
   "outputs": [],
   "source": [
    "# model_doubleLSTM, history_doubleLSTM = model_doubleLSTM(64)\n",
    "# plot_model(history_doubleLSTM.history)"
   ]
  },
  {
   "cell_type": "markdown",
   "id": "2c7febf4",
   "metadata": {
    "papermill": {
     "duration": 0.36603,
     "end_time": "2021-10-24T23:50:29.981283",
     "exception": false,
     "start_time": "2021-10-24T23:50:29.615253",
     "status": "completed"
    },
    "tags": []
   },
   "source": [
    "<img src=\"https://i.ibb.co/RT7wV2V/double-LSTM.png\" alt=\"double-LSTM\" border=\"0\">"
   ]
  },
  {
   "cell_type": "markdown",
   "id": "7cf4ecc7",
   "metadata": {
    "papermill": {
     "duration": 0.388991,
     "end_time": "2021-10-24T23:50:30.746356",
     "exception": false,
     "start_time": "2021-10-24T23:50:30.357365",
     "status": "completed"
    },
    "tags": []
   },
   "source": [
    "Result: It is a bad idea"
   ]
  }
 ],
 "metadata": {
  "kernelspec": {
   "display_name": "Python 3 (ipykernel)",
   "language": "python",
   "name": "python3"
  },
  "language_info": {
   "codemirror_mode": {
    "name": "ipython",
    "version": 3
   },
   "file_extension": ".py",
   "mimetype": "text/x-python",
   "name": "python",
   "nbconvert_exporter": "python",
   "pygments_lexer": "ipython3",
   "version": "3.9.7"
  },
  "papermill": {
   "default_parameters": {},
   "duration": 953.29293,
   "end_time": "2021-10-24T23:50:39.563789",
   "environment_variables": {},
   "exception": null,
   "input_path": "__notebook__.ipynb",
   "output_path": "__notebook__.ipynb",
   "parameters": {},
   "start_time": "2021-10-24T23:34:46.270859",
   "version": "2.3.3"
  }
 },
 "nbformat": 4,
 "nbformat_minor": 5
}
